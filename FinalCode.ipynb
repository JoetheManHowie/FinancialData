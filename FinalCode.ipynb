{
 "cells": [
  {
   "cell_type": "markdown",
   "metadata": {
    "toc": true
   },
   "source": [
    "<h1>Table of Contents<span class=\"tocSkip\"></span></h1>\n",
    "<div class=\"toc\"><ul class=\"toc-item\"><li><span><a href=\"#Preprocessing\" data-toc-modified-id=\"Preprocessing-1\"><span class=\"toc-item-num\">1&nbsp;&nbsp;</span>Preprocessing</a></span><ul class=\"toc-item\"><li><span><a href=\"#Load-Data\" data-toc-modified-id=\"Load-Data-1.1\"><span class=\"toc-item-num\">1.1&nbsp;&nbsp;</span>Load Data</a></span><ul class=\"toc-item\"><li><span><a href=\"#Importing-account-table\" data-toc-modified-id=\"Importing-account-table-1.1.1\"><span class=\"toc-item-num\">1.1.1&nbsp;&nbsp;</span>Importing account table</a></span></li><li><span><a href=\"#Importing-loan-table\" data-toc-modified-id=\"Importing-loan-table-1.1.2\"><span class=\"toc-item-num\">1.1.2&nbsp;&nbsp;</span>Importing loan table</a></span></li><li><span><a href=\"#Importing-disp-table\" data-toc-modified-id=\"Importing-disp-table-1.1.3\"><span class=\"toc-item-num\">1.1.3&nbsp;&nbsp;</span>Importing disp table</a></span></li><li><span><a href=\"#Importing-client-table\" data-toc-modified-id=\"Importing-client-table-1.1.4\"><span class=\"toc-item-num\">1.1.4&nbsp;&nbsp;</span>Importing client table</a></span></li><li><span><a href=\"#Importing-trans-table\" data-toc-modified-id=\"Importing-trans-table-1.1.5\"><span class=\"toc-item-num\">1.1.5&nbsp;&nbsp;</span>Importing trans table</a></span></li></ul></li><li><span><a href=\"#Change-Birthday-&amp;-get-sex\" data-toc-modified-id=\"Change-Birthday-&amp;-get-sex-1.2\"><span class=\"toc-item-num\">1.2&nbsp;&nbsp;</span>Change Birthday &amp; get sex</a></span><ul class=\"toc-item\"><li><span><a href=\"#Pulling-sex-from-age\" data-toc-modified-id=\"Pulling-sex-from-age-1.2.1\"><span class=\"toc-item-num\">1.2.1&nbsp;&nbsp;</span>Pulling sex from age</a></span></li><li><span><a href=\"#Correcting-female-birthdays\" data-toc-modified-id=\"Correcting-female-birthdays-1.2.2\"><span class=\"toc-item-num\">1.2.2&nbsp;&nbsp;</span>Correcting female birthdays</a></span></li><li><span><a href=\"#Date-conversion-functions:-used-later\" data-toc-modified-id=\"Date-conversion-functions:-used-later-1.2.3\"><span class=\"toc-item-num\">1.2.3&nbsp;&nbsp;</span>Date conversion functions: used later</a></span></li></ul></li></ul></li><li><span><a href=\"#From-Relational-Model-to-Graph-Representation\" data-toc-modified-id=\"From-Relational-Model-to-Graph-Representation-2\"><span class=\"toc-item-num\">2&nbsp;&nbsp;</span>From Relational Model to Graph Representation</a></span><ul class=\"toc-item\"><li><span><a href=\"#Merging-tables\" data-toc-modified-id=\"Merging-tables-2.1\"><span class=\"toc-item-num\">2.1&nbsp;&nbsp;</span>Merging tables</a></span><ul class=\"toc-item\"><li><span><a href=\"#Nested-merging\" data-toc-modified-id=\"Nested-merging-2.1.1\"><span class=\"toc-item-num\">2.1.1&nbsp;&nbsp;</span>Nested merging</a></span></li><li><span><a href=\"#Drop-unused-data\" data-toc-modified-id=\"Drop-unused-data-2.1.2\"><span class=\"toc-item-num\">2.1.2&nbsp;&nbsp;</span>Drop unused data</a></span></li></ul></li><li><span><a href=\"#Selecting-Loan-Payment-Information\" data-toc-modified-id=\"Selecting-Loan-Payment-Information-2.2\"><span class=\"toc-item-num\">2.2&nbsp;&nbsp;</span>Selecting Loan Payment Information</a></span><ul class=\"toc-item\"><li><span><a href=\"#Locate-only-loan-payments-in-transaction-table\" data-toc-modified-id=\"Locate-only-loan-payments-in-transaction-table-2.2.1\"><span class=\"toc-item-num\">2.2.1&nbsp;&nbsp;</span>Locate only loan payments in transaction table</a></span></li><li><span><a href=\"#Aggregating-information-for-&quot;paid&quot;-table:-ave-payment,-#payments,-and-totsl-paid\" data-toc-modified-id=\"Aggregating-information-for-&quot;paid&quot;-table:-ave-payment,-#payments,-and-totsl-paid-2.2.2\"><span class=\"toc-item-num\">2.2.2&nbsp;&nbsp;</span>Aggregating information for \"paid\" table: ave payment, #payments, and totsl paid</a></span></li><li><span><a href=\"#Merging-paid-w/-full_account-on-account_id\" data-toc-modified-id=\"Merging-paid-w/-full_account-on-account_id-2.2.3\"><span class=\"toc-item-num\">2.2.3&nbsp;&nbsp;</span>Merging paid w/ full_account on account_id</a></span></li></ul></li><li><span><a href=\"#Changing-to-date\" data-toc-modified-id=\"Changing-to-date-2.3\"><span class=\"toc-item-num\">2.3&nbsp;&nbsp;</span>Changing to date</a></span></li><li><span><a href=\"#Confirming--assumptions\" data-toc-modified-id=\"Confirming--assumptions-2.4\"><span class=\"toc-item-num\">2.4&nbsp;&nbsp;</span>Confirming  assumptions</a></span><ul class=\"toc-item\"><li><span><a href=\"#Only-two-clients-per-account\" data-toc-modified-id=\"Only-two-clients-per-account-2.4.1\"><span class=\"toc-item-num\">2.4.1&nbsp;&nbsp;</span>Only two clients per account</a></span></li><li><span><a href=\"#Couple-pairs-are-only-m/f\" data-toc-modified-id=\"Couple-pairs-are-only-m/f-2.4.2\"><span class=\"toc-item-num\">2.4.2&nbsp;&nbsp;</span>Couple pairs are only m/f</a></span></li></ul></li><li><span><a href=\"#Construct-three-adjacency-lists\" data-toc-modified-id=\"Construct-three-adjacency-lists-2.5\"><span class=\"toc-item-num\">2.5&nbsp;&nbsp;</span>Construct three adjacency lists</a></span><ul class=\"toc-item\"><li><span><a href=\"#Couples-graph\" data-toc-modified-id=\"Couples-graph-2.5.1\"><span class=\"toc-item-num\">2.5.1&nbsp;&nbsp;</span>Couples graph</a></span></li><li><span><a href=\"#Males-graph\" data-toc-modified-id=\"Males-graph-2.5.2\"><span class=\"toc-item-num\">2.5.2&nbsp;&nbsp;</span>Males graph</a></span></li><li><span><a href=\"#Females-graph\" data-toc-modified-id=\"Females-graph-2.5.3\"><span class=\"toc-item-num\">2.5.3&nbsp;&nbsp;</span>Females graph</a></span></li><li><span><a href=\"#Graph-Properties\" data-toc-modified-id=\"Graph-Properties-2.5.4\"><span class=\"toc-item-num\">2.5.4&nbsp;&nbsp;</span>Graph Properties</a></span></li><li><span><a href=\"#Rejoin-male+female+couples\" data-toc-modified-id=\"Rejoin-male+female+couples-2.5.5\"><span class=\"toc-item-num\">2.5.5&nbsp;&nbsp;</span>Rejoin male+female+couples</a></span></li></ul></li></ul></li><li><span><a href=\"#Question-1:-Who-are-taking-out-loans-at-the-same-age?\" data-toc-modified-id=\"Question-1:-Who-are-taking-out-loans-at-the-same-age?-3\"><span class=\"toc-item-num\">3&nbsp;&nbsp;</span>Question 1: Who are taking out loans at the same age?</a></span><ul class=\"toc-item\"><li><span><a href=\"#Induce-Bipartite-Graph\" data-toc-modified-id=\"Induce-Bipartite-Graph-3.1\"><span class=\"toc-item-num\">3.1&nbsp;&nbsp;</span>Induce Bipartite Graph</a></span></li><li><span><a href=\"#One-hop-age-loan-network-algorithm\" data-toc-modified-id=\"One-hop-age-loan-network-algorithm-3.2\"><span class=\"toc-item-num\">3.2&nbsp;&nbsp;</span>One hop age loan network algorithm</a></span></li></ul></li><li><span><a href=\"#Question-2:-Which-users-get-loaned-similar-amounts?\" data-toc-modified-id=\"Question-2:-Which-users-get-loaned-similar-amounts?-4\"><span class=\"toc-item-num\">4&nbsp;&nbsp;</span>Question 2: Which users get loaned similar amounts?</a></span><ul class=\"toc-item\"><li><span><a href=\"#Induced-Bipartite-Graph\" data-toc-modified-id=\"Induced-Bipartite-Graph-4.1\"><span class=\"toc-item-num\">4.1&nbsp;&nbsp;</span>Induced Bipartite Graph</a></span></li><li><span><a href=\"#Algorithm\" data-toc-modified-id=\"Algorithm-4.2\"><span class=\"toc-item-num\">4.2&nbsp;&nbsp;</span>Algorithm</a></span></li></ul></li><li><span><a href=\"#Question-3:-Which-users-paid-back-similar-percentages-of-loan-on-time?\" data-toc-modified-id=\"Question-3:-Which-users-paid-back-similar-percentages-of-loan-on-time?-5\"><span class=\"toc-item-num\">5&nbsp;&nbsp;</span>Question 3: Which users paid back similar percentages of loan on time?</a></span><ul class=\"toc-item\"><li><span><a href=\"#Induced-Bipartite-Graph\" data-toc-modified-id=\"Induced-Bipartite-Graph-5.1\"><span class=\"toc-item-num\">5.1&nbsp;&nbsp;</span>Induced Bipartite Graph</a></span></li><li><span><a href=\"#Algorithm\" data-toc-modified-id=\"Algorithm-5.2\"><span class=\"toc-item-num\">5.2&nbsp;&nbsp;</span>Algorithm</a></span></li></ul></li><li><span><a href=\"#Build-Multi-Graph-from-Edge-Adjacency-List-to-Three-Node-Adjacency-Lists\" data-toc-modified-id=\"Build-Multi-Graph-from-Edge-Adjacency-List-to-Three-Node-Adjacency-Lists-6\"><span class=\"toc-item-num\">6&nbsp;&nbsp;</span>Build Multi-Graph from Edge Adjacency List to Three Node Adjacency Lists</a></span></li><li><span><a href=\"#Density-Plot\" data-toc-modified-id=\"Density-Plot-7\"><span class=\"toc-item-num\">7&nbsp;&nbsp;</span>Density Plot</a></span></li><li><span><a href=\"#Scaling\" data-toc-modified-id=\"Scaling-8\"><span class=\"toc-item-num\">8&nbsp;&nbsp;</span>Scaling</a></span></li><li><span><a href=\"#END\" data-toc-modified-id=\"END-9\"><span class=\"toc-item-num\">9&nbsp;&nbsp;</span>END</a></span></li></ul></div>"
   ]
  },
  {
   "cell_type": "markdown",
   "metadata": {},
   "source": [
    "## Preprocessing"
   ]
  },
  {
   "cell_type": "code",
   "execution_count": 1,
   "metadata": {
    "ExecuteTime": {
     "end_time": "2020-11-27T17:00:22.454257Z",
     "start_time": "2020-11-27T17:00:21.491996Z"
    }
   },
   "outputs": [],
   "source": [
    "import pandas as pd\n",
    "import numpy as np\n",
    "from datetime import date\n",
    "from matplotlib import colors\n",
    "import matplotlib.pyplot as plt\n",
    "import warnings\n",
    "from time import time_ns as time"
   ]
  },
  {
   "cell_type": "code",
   "execution_count": 2,
   "metadata": {
    "ExecuteTime": {
     "end_time": "2020-11-27T17:00:22.461386Z",
     "start_time": "2020-11-27T17:00:22.458375Z"
    }
   },
   "outputs": [],
   "source": [
    "plt.rcParams['figure.dpi'] = 150\n",
    "warnings.filterwarnings('ignore')\n",
    "plt.ioff()"
   ]
  },
  {
   "cell_type": "markdown",
   "metadata": {},
   "source": [
    "### Load Data"
   ]
  },
  {
   "cell_type": "markdown",
   "metadata": {},
   "source": [
    "#### Importing account table"
   ]
  },
  {
   "cell_type": "code",
   "execution_count": 3,
   "metadata": {
    "ExecuteTime": {
     "end_time": "2020-11-27T17:00:22.542929Z",
     "start_time": "2020-11-27T17:00:22.526764Z"
    }
   },
   "outputs": [
    {
     "name": "stdout",
     "output_type": "stream",
     "text": [
      "There are 4500 rows of data\n"
     ]
    }
   ],
   "source": [
    "## import data ##\n",
    "account = pd.read_table('account.asc',\n",
    "                        sep=';',\n",
    "                        dtype={\n",
    "                            'account_id': np.int64,\n",
    "                            'district_id': np.int64,\n",
    "                            'frequency': str,\n",
    "                            'date': str\n",
    "                        })\n",
    "print('There are %s rows of data' % len(account))"
   ]
  },
  {
   "cell_type": "markdown",
   "metadata": {},
   "source": [
    "#### Importing loan table"
   ]
  },
  {
   "cell_type": "code",
   "execution_count": 4,
   "metadata": {
    "ExecuteTime": {
     "end_time": "2020-11-27T17:00:22.918489Z",
     "start_time": "2020-11-27T17:00:22.906817Z"
    }
   },
   "outputs": [
    {
     "name": "stdout",
     "output_type": "stream",
     "text": [
      "There are 682 rows of data\n"
     ]
    }
   ],
   "source": [
    "loan = pd.read_table(\"loan.asc\",\n",
    "                     sep=';',\n",
    "                     dtype={\n",
    "                         \"loan_id\": np.int64,\n",
    "                         \"account_id\": np.int64,\n",
    "                         \"date\": str,\n",
    "                         \"amount\": np.float64,\n",
    "                         \"duration\": np.int64,\n",
    "                         \"payments\": np.float64,\n",
    "                         \"status\": str\n",
    "                     })\n",
    "print('There are %s rows of data' % len(loan))"
   ]
  },
  {
   "cell_type": "markdown",
   "metadata": {},
   "source": [
    "#### Importing disp table"
   ]
  },
  {
   "cell_type": "code",
   "execution_count": 5,
   "metadata": {
    "ExecuteTime": {
     "end_time": "2020-11-27T17:00:23.349700Z",
     "start_time": "2020-11-27T17:00:23.333946Z"
    }
   },
   "outputs": [
    {
     "name": "stdout",
     "output_type": "stream",
     "text": [
      "There are 5369 rows of data\n"
     ]
    }
   ],
   "source": [
    "disp = pd.read_table(\"disp.asc\",\n",
    "                     sep=';',\n",
    "                     dtype={\n",
    "                         \"disp_id\": np.int64,\n",
    "                         \"client_id\": np.int64,\n",
    "                         \"account_id\": np.int64,\n",
    "                         \"type\": str\n",
    "                     })\n",
    "print('There are %s rows of data' % len(disp))"
   ]
  },
  {
   "cell_type": "markdown",
   "metadata": {},
   "source": [
    "#### Importing client table"
   ]
  },
  {
   "cell_type": "code",
   "execution_count": 6,
   "metadata": {
    "ExecuteTime": {
     "end_time": "2020-11-27T17:00:23.838215Z",
     "start_time": "2020-11-27T17:00:23.821291Z"
    }
   },
   "outputs": [
    {
     "name": "stdout",
     "output_type": "stream",
     "text": [
      "There are 5369 rows of data\n"
     ]
    }
   ],
   "source": [
    "client = pd.read_table(\"client.asc\",\n",
    "                       sep=';',\n",
    "                       dtype={\n",
    "                           \"client_id\": np.int64,\n",
    "                           \"birth_number\": str,\n",
    "                           \"district_id\": np.int64\n",
    "                       })\n",
    "print('There are %s rows of data' % len(client))"
   ]
  },
  {
   "cell_type": "markdown",
   "metadata": {},
   "source": [
    "#### Importing trans table"
   ]
  },
  {
   "cell_type": "code",
   "execution_count": 7,
   "metadata": {
    "ExecuteTime": {
     "end_time": "2020-11-27T17:00:25.933319Z",
     "start_time": "2020-11-27T17:00:24.408006Z"
    }
   },
   "outputs": [
    {
     "name": "stdout",
     "output_type": "stream",
     "text": [
      "There are 1056320 rows of data\n"
     ]
    }
   ],
   "source": [
    "trans = pd.read_table(\"trans.asc\",\n",
    "                      sep=';',\n",
    "                      dtype={\n",
    "                          \"trans_id\": np.int64,\n",
    "                          \"account_id\": np.int64,\n",
    "                          \"date\": str,\n",
    "                          \"type\": str,\n",
    "                          \"operation\": str,\n",
    "                          \"amount\": np.float64,\n",
    "                          \"balance\": np.float64,\n",
    "                          \"k_symbol\": str,\n",
    "                          \"bank\": str,\n",
    "                          \"account\": str\n",
    "                      })\n",
    "print('There are %s rows of data' % len(trans))"
   ]
  },
  {
   "cell_type": "markdown",
   "metadata": {},
   "source": [
    "### Change Birthday \\& get sex"
   ]
  },
  {
   "cell_type": "markdown",
   "metadata": {},
   "source": [
    "#### Pulling sex from age"
   ]
  },
  {
   "cell_type": "code",
   "execution_count": 8,
   "metadata": {
    "ExecuteTime": {
     "end_time": "2020-11-27T17:00:26.149918Z",
     "start_time": "2020-11-27T17:00:25.938373Z"
    }
   },
   "outputs": [],
   "source": [
    "## parse male vs, female clients\n",
    "# --> make new column in table with M/F values\n",
    "# then change birthday to datetime.date object\n",
    "def sex_check(row):\n",
    "    num = int(row['birth_number'][2:4])\n",
    "    if num - 50 > 0: return 'f'\n",
    "    else: return 'm'\n",
    "\n",
    "\n",
    "client['sex'] = client.apply(lambda row: sex_check(row), axis=1)"
   ]
  },
  {
   "cell_type": "markdown",
   "metadata": {},
   "source": [
    "#### Correcting female birthdays"
   ]
  },
  {
   "cell_type": "code",
   "execution_count": 9,
   "metadata": {
    "ExecuteTime": {
     "end_time": "2020-11-27T17:00:26.674300Z",
     "start_time": "2020-11-27T17:00:26.156228Z"
    }
   },
   "outputs": [],
   "source": [
    "# converts birthdays to date objects\n",
    "def bday(row):\n",
    "    yr = int(row['birth_number'][:2]) + 1900\n",
    "    day = int(row['birth_number'][4:6])\n",
    "    mon = int(row['birth_number'][2:4])\n",
    "    if row['sex'] == 'f': mon -= 50\n",
    "    return date(yr, mon, day)\n",
    "\n",
    "\n",
    "client['birth_number'] = client.apply(lambda row: bday(row), axis=1)"
   ]
  },
  {
   "cell_type": "markdown",
   "metadata": {},
   "source": [
    "#### Date conversion functions: used later"
   ]
  },
  {
   "cell_type": "code",
   "execution_count": 10,
   "metadata": {
    "ExecuteTime": {
     "end_time": "2020-11-27T17:00:26.685234Z",
     "start_time": "2020-11-27T17:00:26.676573Z"
    }
   },
   "outputs": [],
   "source": [
    "def md(st):\n",
    "    yr = int(st[:2]) + 1900\n",
    "    mo = int(st[2:4])\n",
    "    da = int(st[4:6])\n",
    "    return date(yr, mo, da)\n",
    "\n",
    "\n",
    "## get date in other tables: loan, trans, account\n",
    "def get_date(row, st='date'):\n",
    "    yr = int(row[st][:2]) + 1900\n",
    "    mo = int(row[st][2:4])\n",
    "    da = int(row[st][4:6])\n",
    "    return date(yr, mo, da)\n",
    "\n",
    "\n",
    "def to_date(df, s):\n",
    "    df[s] = df.apply(lambda row: get_date(row, s), axis=1)\n",
    "    return df"
   ]
  },
  {
   "cell_type": "markdown",
   "metadata": {},
   "source": [
    "## From Relational Model to Graph Representation"
   ]
  },
  {
   "cell_type": "code",
   "execution_count": 11,
   "metadata": {
    "ExecuteTime": {
     "end_time": "2020-11-27T17:00:27.038641Z",
     "start_time": "2020-11-27T17:00:27.035608Z"
    }
   },
   "outputs": [],
   "source": [
    "#### Drop unwanted data"
   ]
  },
  {
   "cell_type": "code",
   "execution_count": 12,
   "metadata": {
    "ExecuteTime": {
     "end_time": "2020-11-27T17:00:27.053094Z",
     "start_time": "2020-11-27T17:00:27.044136Z"
    }
   },
   "outputs": [],
   "source": [
    "# preprocessing for merge: changing name to avoid problems later\n",
    "loan['date_applied'] = loan.date\n",
    "loan.drop(['date'], axis=1, inplace=True)"
   ]
  },
  {
   "cell_type": "markdown",
   "metadata": {},
   "source": [
    "### Merging tables"
   ]
  },
  {
   "cell_type": "markdown",
   "metadata": {},
   "source": [
    "#### Nested merging \n",
    "\n",
    "((clients w/ disp on client_id ) w/ account on account_id) w/ loan on account_id"
   ]
  },
  {
   "cell_type": "code",
   "execution_count": 13,
   "metadata": {
    "ExecuteTime": {
     "end_time": "2020-11-27T17:00:28.023738Z",
     "start_time": "2020-11-27T17:00:27.977590Z"
    }
   },
   "outputs": [],
   "source": [
    "# joining client, disp, account, and loan on client_id, then account_id\n",
    "full_account = pd.merge(pd.merge(pd.merge(client,\n",
    "                                          disp,\n",
    "                                          on=\"client_id\",\n",
    "                                          how='left'),\n",
    "                                 account,\n",
    "                                 on='account_id',\n",
    "                                 how='left'),\n",
    "                        loan,\n",
    "                        on='account_id',\n",
    "                        how='left')"
   ]
  },
  {
   "cell_type": "markdown",
   "metadata": {
    "ExecuteTime": {
     "end_time": "2020-11-25T08:08:04.729964Z",
     "start_time": "2020-11-25T08:08:04.726135Z"
    }
   },
   "source": [
    "#### Drop unused data"
   ]
  },
  {
   "cell_type": "code",
   "execution_count": 14,
   "metadata": {
    "ExecuteTime": {
     "end_time": "2020-11-27T17:00:28.529468Z",
     "start_time": "2020-11-27T17:00:28.511937Z"
    }
   },
   "outputs": [],
   "source": [
    "# drop unwanted data\n",
    "full_account.drop(\n",
    "    [\"frequency\", \"type\", \"disp_id\", 'date', 'district_id_x', 'district_id_y'],\n",
    "    axis=1,\n",
    "    inplace=True)\n",
    "full_account.dropna(inplace=True)"
   ]
  },
  {
   "cell_type": "markdown",
   "metadata": {},
   "source": [
    "### Selecting Loan Payment Information"
   ]
  },
  {
   "cell_type": "markdown",
   "metadata": {},
   "source": [
    "#### Locate only loan payments in transaction table"
   ]
  },
  {
   "cell_type": "code",
   "execution_count": 15,
   "metadata": {
    "ExecuteTime": {
     "end_time": "2020-11-27T17:00:29.645760Z",
     "start_time": "2020-11-27T17:00:29.466344Z"
    }
   },
   "outputs": [],
   "source": [
    "# aggragate to just loan payments in the trans table\n",
    "trans = trans.loc[(trans.k_symbol == \"UVER\")]\n",
    "trans.drop(['operation', 'bank', 'account'], axis=1, inplace=True)"
   ]
  },
  {
   "cell_type": "code",
   "execution_count": 16,
   "metadata": {
    "ExecuteTime": {
     "end_time": "2020-11-27T17:00:29.662346Z",
     "start_time": "2020-11-27T17:00:29.649283Z"
    }
   },
   "outputs": [
    {
     "name": "stdout",
     "output_type": "stream",
     "text": [
      "There are 682 unique accounts that make loan payments\n"
     ]
    }
   ],
   "source": [
    "# get unique account_id list\n",
    "trans_list = sorted(list(full_account.account_id.value_counts().index))\n",
    "# get couple account_id list# 145 checked by hand get singles account_id list\n",
    "couple_accounts = full_account.account_id.value_counts()[:145].index\n",
    "single_accounts = full_account.account_id.value_counts()[145:].index\n",
    "full_account.drop(['client_id', 'loan_id'], axis=1, inplace=True)\n",
    "print('There are %s unique accounts that make loan payments' % len(trans_list))"
   ]
  },
  {
   "cell_type": "markdown",
   "metadata": {},
   "source": [
    "#### Aggregating information for \"paid\" table: ave payment, #payments, and totsl paid"
   ]
  },
  {
   "cell_type": "code",
   "execution_count": 17,
   "metadata": {
    "ExecuteTime": {
     "end_time": "2020-11-27T17:00:34.387858Z",
     "start_time": "2020-11-27T17:00:29.970192Z"
    }
   },
   "outputs": [],
   "source": [
    "# get account_id transactions\n",
    "trans = trans.loc[trans.account_id.isin(trans_list)]\n",
    "trans.sort_values(by=[\"account_id\", \"date\"], ignore_index=True, inplace=True)\n",
    "# construct paid vertex data\n",
    "paid = pd.DataFrame(columns=['account_id', 'time', 'ave', 'total'])\n",
    "for acc in trans_list:\n",
    "    # get payments of users\n",
    "    payments = trans.loc[trans.account_id == acc].amount.values\n",
    "    dates = trans.loc[(trans.account_id == acc)].date.values\n",
    "    end_date = md(max(dates))\n",
    "    start_date = md(min(dates))\n",
    "    paid = paid.append(\n",
    "        {\n",
    "            'account_id':\n",
    "            acc,\n",
    "            'time': (end_date.year - start_date.year) * 12 +\n",
    "            (end_date.month - start_date.month) + 1,\n",
    "            'ave':\n",
    "            round(np.mean(payments), 2),\n",
    "            'total':\n",
    "            sum(payments)\n",
    "        },\n",
    "        ignore_index=True)"
   ]
  },
  {
   "cell_type": "markdown",
   "metadata": {},
   "source": [
    "#### Merging paid w/ full_account on account_id"
   ]
  },
  {
   "cell_type": "code",
   "execution_count": 18,
   "metadata": {
    "ExecuteTime": {
     "end_time": "2020-11-27T17:00:34.402809Z",
     "start_time": "2020-11-27T17:00:34.390107Z"
    }
   },
   "outputs": [],
   "source": [
    "# merge \"full_account\" table with paid on account_id\n",
    "full_account = pd.merge(full_account, paid, on='account_id', how='left')"
   ]
  },
  {
   "cell_type": "markdown",
   "metadata": {},
   "source": [
    "### Changing to date"
   ]
  },
  {
   "cell_type": "code",
   "execution_count": 19,
   "metadata": {
    "ExecuteTime": {
     "end_time": "2020-11-27T17:00:34.497641Z",
     "start_time": "2020-11-27T17:00:34.406272Z"
    }
   },
   "outputs": [
    {
     "data": {
      "text/html": [
       "<div>\n",
       "<style scoped>\n",
       "    .dataframe tbody tr th:only-of-type {\n",
       "        vertical-align: middle;\n",
       "    }\n",
       "\n",
       "    .dataframe tbody tr th {\n",
       "        vertical-align: top;\n",
       "    }\n",
       "\n",
       "    .dataframe thead th {\n",
       "        text-align: right;\n",
       "    }\n",
       "</style>\n",
       "<table border=\"1\" class=\"dataframe\">\n",
       "  <thead>\n",
       "    <tr style=\"text-align: right;\">\n",
       "      <th></th>\n",
       "      <th>birth_number</th>\n",
       "      <th>sex</th>\n",
       "      <th>account_id</th>\n",
       "      <th>amount</th>\n",
       "      <th>duration</th>\n",
       "      <th>payments</th>\n",
       "      <th>status</th>\n",
       "      <th>date_applied</th>\n",
       "      <th>time</th>\n",
       "      <th>ave</th>\n",
       "      <th>total</th>\n",
       "    </tr>\n",
       "  </thead>\n",
       "  <tbody>\n",
       "    <tr>\n",
       "      <th>0</th>\n",
       "      <td>1945-02-04</td>\n",
       "      <td>m</td>\n",
       "      <td>2</td>\n",
       "      <td>80952.0</td>\n",
       "      <td>24.0</td>\n",
       "      <td>3373.0</td>\n",
       "      <td>A</td>\n",
       "      <td>1994-01-05</td>\n",
       "      <td>24.0</td>\n",
       "      <td>3372.7</td>\n",
       "      <td>80944.8</td>\n",
       "    </tr>\n",
       "    <tr>\n",
       "      <th>1</th>\n",
       "      <td>1940-10-09</td>\n",
       "      <td>f</td>\n",
       "      <td>2</td>\n",
       "      <td>80952.0</td>\n",
       "      <td>24.0</td>\n",
       "      <td>3373.0</td>\n",
       "      <td>A</td>\n",
       "      <td>1994-01-05</td>\n",
       "      <td>24.0</td>\n",
       "      <td>3372.7</td>\n",
       "      <td>80944.8</td>\n",
       "    </tr>\n",
       "    <tr>\n",
       "      <th>2</th>\n",
       "      <td>1939-04-23</td>\n",
       "      <td>f</td>\n",
       "      <td>19</td>\n",
       "      <td>30276.0</td>\n",
       "      <td>12.0</td>\n",
       "      <td>2523.0</td>\n",
       "      <td>B</td>\n",
       "      <td>1996-04-29</td>\n",
       "      <td>8.0</td>\n",
       "      <td>2523.2</td>\n",
       "      <td>20185.6</td>\n",
       "    </tr>\n",
       "    <tr>\n",
       "      <th>3</th>\n",
       "      <td>1962-02-09</td>\n",
       "      <td>m</td>\n",
       "      <td>25</td>\n",
       "      <td>30276.0</td>\n",
       "      <td>12.0</td>\n",
       "      <td>2523.0</td>\n",
       "      <td>A</td>\n",
       "      <td>1997-12-08</td>\n",
       "      <td>12.0</td>\n",
       "      <td>2523.2</td>\n",
       "      <td>30278.4</td>\n",
       "    </tr>\n",
       "    <tr>\n",
       "      <th>4</th>\n",
       "      <td>1952-08-26</td>\n",
       "      <td>m</td>\n",
       "      <td>37</td>\n",
       "      <td>318480.0</td>\n",
       "      <td>60.0</td>\n",
       "      <td>5308.0</td>\n",
       "      <td>D</td>\n",
       "      <td>1998-10-14</td>\n",
       "      <td>1.0</td>\n",
       "      <td>5307.5</td>\n",
       "      <td>5307.5</td>\n",
       "    </tr>\n",
       "    <tr>\n",
       "      <th>...</th>\n",
       "      <td>...</td>\n",
       "      <td>...</td>\n",
       "      <td>...</td>\n",
       "      <td>...</td>\n",
       "      <td>...</td>\n",
       "      <td>...</td>\n",
       "      <td>...</td>\n",
       "      <td>...</td>\n",
       "      <td>...</td>\n",
       "      <td>...</td>\n",
       "      <td>...</td>\n",
       "    </tr>\n",
       "    <tr>\n",
       "      <th>822</th>\n",
       "      <td>1952-09-09</td>\n",
       "      <td>f</td>\n",
       "      <td>11328</td>\n",
       "      <td>280440.0</td>\n",
       "      <td>60.0</td>\n",
       "      <td>4674.0</td>\n",
       "      <td>C</td>\n",
       "      <td>1998-07-18</td>\n",
       "      <td>5.0</td>\n",
       "      <td>4674.0</td>\n",
       "      <td>23370.0</td>\n",
       "    </tr>\n",
       "    <tr>\n",
       "      <th>823</th>\n",
       "      <td>1945-10-30</td>\n",
       "      <td>f</td>\n",
       "      <td>11349</td>\n",
       "      <td>419880.0</td>\n",
       "      <td>60.0</td>\n",
       "      <td>6998.0</td>\n",
       "      <td>C</td>\n",
       "      <td>1995-10-29</td>\n",
       "      <td>38.0</td>\n",
       "      <td>6998.0</td>\n",
       "      <td>265924.0</td>\n",
       "    </tr>\n",
       "    <tr>\n",
       "      <th>824</th>\n",
       "      <td>1943-04-06</td>\n",
       "      <td>m</td>\n",
       "      <td>11349</td>\n",
       "      <td>419880.0</td>\n",
       "      <td>60.0</td>\n",
       "      <td>6998.0</td>\n",
       "      <td>C</td>\n",
       "      <td>1995-10-29</td>\n",
       "      <td>38.0</td>\n",
       "      <td>6998.0</td>\n",
       "      <td>265924.0</td>\n",
       "    </tr>\n",
       "    <tr>\n",
       "      <th>825</th>\n",
       "      <td>1968-04-13</td>\n",
       "      <td>m</td>\n",
       "      <td>11359</td>\n",
       "      <td>54024.0</td>\n",
       "      <td>12.0</td>\n",
       "      <td>4502.0</td>\n",
       "      <td>A</td>\n",
       "      <td>1996-08-06</td>\n",
       "      <td>12.0</td>\n",
       "      <td>4502.3</td>\n",
       "      <td>54027.6</td>\n",
       "    </tr>\n",
       "    <tr>\n",
       "      <th>826</th>\n",
       "      <td>1962-10-19</td>\n",
       "      <td>f</td>\n",
       "      <td>11362</td>\n",
       "      <td>129408.0</td>\n",
       "      <td>24.0</td>\n",
       "      <td>5392.0</td>\n",
       "      <td>A</td>\n",
       "      <td>1996-12-27</td>\n",
       "      <td>24.0</td>\n",
       "      <td>5392.0</td>\n",
       "      <td>129408.0</td>\n",
       "    </tr>\n",
       "  </tbody>\n",
       "</table>\n",
       "<p>827 rows × 11 columns</p>\n",
       "</div>"
      ],
      "text/plain": [
       "    birth_number sex  account_id    amount  duration  payments status  \\\n",
       "0     1945-02-04   m           2   80952.0      24.0    3373.0      A   \n",
       "1     1940-10-09   f           2   80952.0      24.0    3373.0      A   \n",
       "2     1939-04-23   f          19   30276.0      12.0    2523.0      B   \n",
       "3     1962-02-09   m          25   30276.0      12.0    2523.0      A   \n",
       "4     1952-08-26   m          37  318480.0      60.0    5308.0      D   \n",
       "..           ...  ..         ...       ...       ...       ...    ...   \n",
       "822   1952-09-09   f       11328  280440.0      60.0    4674.0      C   \n",
       "823   1945-10-30   f       11349  419880.0      60.0    6998.0      C   \n",
       "824   1943-04-06   m       11349  419880.0      60.0    6998.0      C   \n",
       "825   1968-04-13   m       11359   54024.0      12.0    4502.0      A   \n",
       "826   1962-10-19   f       11362  129408.0      24.0    5392.0      A   \n",
       "\n",
       "    date_applied  time     ave     total  \n",
       "0     1994-01-05  24.0  3372.7   80944.8  \n",
       "1     1994-01-05  24.0  3372.7   80944.8  \n",
       "2     1996-04-29   8.0  2523.2   20185.6  \n",
       "3     1997-12-08  12.0  2523.2   30278.4  \n",
       "4     1998-10-14   1.0  5307.5    5307.5  \n",
       "..           ...   ...     ...       ...  \n",
       "822   1998-07-18   5.0  4674.0   23370.0  \n",
       "823   1995-10-29  38.0  6998.0  265924.0  \n",
       "824   1995-10-29  38.0  6998.0  265924.0  \n",
       "825   1996-08-06  12.0  4502.3   54027.6  \n",
       "826   1996-12-27  24.0  5392.0  129408.0  \n",
       "\n",
       "[827 rows x 11 columns]"
      ]
     },
     "execution_count": 19,
     "metadata": {},
     "output_type": "execute_result"
    }
   ],
   "source": [
    "to_date(full_account, 'date_applied')"
   ]
  },
  {
   "cell_type": "markdown",
   "metadata": {},
   "source": [
    "### Confirming  assumptions"
   ]
  },
  {
   "cell_type": "markdown",
   "metadata": {},
   "source": [
    "#### Only two clients per account"
   ]
  },
  {
   "cell_type": "code",
   "execution_count": 20,
   "metadata": {
    "ExecuteTime": {
     "end_time": "2020-11-27T17:00:34.513392Z",
     "start_time": "2020-11-27T17:00:34.500565Z"
    }
   },
   "outputs": [
    {
     "name": "stdout",
     "output_type": "stream",
     "text": [
      "Only 2 people share accounts\n",
      "1051    2\n",
      "3035    2\n",
      "815     2\n",
      "928     2\n",
      "811     2\n",
      "       ..\n",
      "1195    2\n",
      "1997    2\n",
      "8051    2\n",
      "1183    2\n",
      "337     2\n",
      "Name: account_id, Length: 869, dtype: int64\n",
      "\n",
      "and there are singles user accounts\n",
      "1051    2\n",
      "3035    2\n",
      "815     2\n",
      "928     2\n",
      "811     2\n",
      "       ..\n",
      "8051    2\n",
      "1183    2\n",
      "337     2\n",
      "373     1\n",
      "2392    1\n",
      "Name: account_id, Length: 871, dtype: int64\n",
      "\n",
      "Is account_id unique for each row in loan: True\n"
     ]
    }
   ],
   "source": [
    "## checking facts about tables:\n",
    "\n",
    "#1 -- accounts have max 2 clients\n",
    "print(\"Only 2 people share accounts\")\n",
    "print(disp.account_id.value_counts()[:869])  ## only couples\n",
    "print('\\nand there are singles user accounts')\n",
    "print(disp.account_id.value_counts()[:871])  ## SEE!?!?!\n",
    "#3 -- accounts only have one loan\n",
    "print(\"\\nIs account_id unique for each row in loan: %s\" %\n",
    "      (len(loan.account_id.unique()) == len(loan)))"
   ]
  },
  {
   "cell_type": "markdown",
   "metadata": {},
   "source": [
    "#### Couple pairs are only m/f"
   ]
  },
  {
   "cell_type": "code",
   "execution_count": 21,
   "metadata": {
    "ExecuteTime": {
     "end_time": "2020-11-27T17:00:34.529345Z",
     "start_time": "2020-11-27T17:00:34.517263Z"
    }
   },
   "outputs": [
    {
     "name": "stdout",
     "output_type": "stream",
     "text": [
      "take only the men from the couples list\n",
      "then take only the women, and compare: \n",
      "[ True  True  True  True  True  True  True  True  True  True  True  True\n",
      "  True  True  True  True  True  True  True  True  True  True  True  True\n",
      "  True  True  True  True  True  True  True  True  True  True  True  True\n",
      "  True  True  True  True  True  True  True  True  True  True  True  True\n",
      "  True  True  True  True  True  True  True  True  True  True  True  True\n",
      "  True  True  True  True  True  True  True  True  True  True  True  True\n",
      "  True  True  True  True  True  True  True  True  True  True  True  True\n",
      "  True  True  True  True  True  True  True  True  True  True  True  True\n",
      "  True  True  True  True  True  True  True  True  True  True  True  True\n",
      "  True  True  True  True  True  True  True  True  True  True  True  True\n",
      "  True  True  True  True  True  True  True  True  True  True  True  True\n",
      "  True  True  True  True  True  True  True  True  True  True  True  True\n",
      "  True]\n",
      "Thus, only male and female pairs share accounts, thus assume couples!\n"
     ]
    }
   ],
   "source": [
    "# take only the men from the couples list\n",
    "print('take only the men from the couples list')\n",
    "only_men = full_account.loc[full_account.account_id.isin(couple_accounts)\n",
    "                            & (full_account.sex == 'm')]\n",
    "# then take only the women, and compare:\n",
    "print('then take only the women, and compare: ')\n",
    "only_women = full_account.loc[full_account.account_id.isin(couple_accounts)\n",
    "                              & (full_account.sex == 'f')]\n",
    "print(only_men.account_id.to_numpy() == only_women.account_id.to_numpy())\n",
    "print(\"Thus, only male and female pairs share accounts, thus assume couples!\")"
   ]
  },
  {
   "cell_type": "markdown",
   "metadata": {},
   "source": [
    "### Construct three adjacency lists"
   ]
  },
  {
   "cell_type": "markdown",
   "metadata": {},
   "source": [
    "#### Couples graph"
   ]
  },
  {
   "cell_type": "code",
   "execution_count": 22,
   "metadata": {
    "ExecuteTime": {
     "end_time": "2020-11-27T17:00:34.541116Z",
     "start_time": "2020-11-27T17:00:34.532157Z"
    }
   },
   "outputs": [],
   "source": [
    "## our three \"graphs\" of couple, male, and female clients-accounts\n",
    "coups = full_account.loc[full_account.account_id.isin(couple_accounts) &\n",
    "                         (full_account.sex\n",
    "                          == 'm')]  #NB: we take the males for the couples\n",
    "# changing label to reflect couple vertex\n",
    "coups['sex'] = coups.sex.apply(lambda x: 'c')"
   ]
  },
  {
   "cell_type": "markdown",
   "metadata": {},
   "source": [
    "#### Males graph"
   ]
  },
  {
   "cell_type": "code",
   "execution_count": 23,
   "metadata": {
    "ExecuteTime": {
     "end_time": "2020-11-27T17:00:34.572999Z",
     "start_time": "2020-11-27T17:00:34.566168Z"
    }
   },
   "outputs": [],
   "source": [
    "males = full_account.loc[(full_account.account_id.isin(single_accounts))\n",
    "                         & (full_account.sex == 'm')]"
   ]
  },
  {
   "cell_type": "markdown",
   "metadata": {},
   "source": [
    "#### Females graph"
   ]
  },
  {
   "cell_type": "code",
   "execution_count": 24,
   "metadata": {
    "ExecuteTime": {
     "end_time": "2020-11-27T17:00:35.074155Z",
     "start_time": "2020-11-27T17:00:35.062761Z"
    }
   },
   "outputs": [],
   "source": [
    "femms = full_account.loc[(full_account.account_id.isin(single_accounts))\n",
    "                         & (full_account.sex == 'f')]"
   ]
  },
  {
   "cell_type": "markdown",
   "metadata": {},
   "source": [
    "#### Graph Properties"
   ]
  },
  {
   "cell_type": "code",
   "execution_count": 25,
   "metadata": {
    "ExecuteTime": {
     "end_time": "2020-11-27T17:00:35.578933Z",
     "start_time": "2020-11-27T17:00:35.568000Z"
    }
   },
   "outputs": [
    {
     "name": "stdout",
     "output_type": "stream",
     "text": [
      "[ 725 1325 1360]\n",
      "[145 265 272]\n",
      "140 244 245\n"
     ]
    }
   ],
   "source": [
    "# number of edges in each graph\n",
    "edges = 5 * np.array([len(coups), len(males), len(femms)])\n",
    "print(edges)\n",
    "# number of client vertices\n",
    "clints = np.array([len(coups), len(males), len(femms)])\n",
    "print(clints)\n",
    "# date applied\n",
    "st = 'date_applied'\n",
    "print(len(coups[st].value_counts()), len(males[st].value_counts()),\n",
    "      len(femms[st].value_counts()))"
   ]
  },
  {
   "cell_type": "markdown",
   "metadata": {},
   "source": [
    "#### Rejoin male+female+couples"
   ]
  },
  {
   "cell_type": "code",
   "execution_count": 26,
   "metadata": {
    "ExecuteTime": {
     "end_time": "2020-11-27T17:00:36.016417Z",
     "start_time": "2020-11-27T17:00:36.006644Z"
    }
   },
   "outputs": [],
   "source": [
    "graph = coups.append(males.append(femms))"
   ]
  },
  {
   "cell_type": "markdown",
   "metadata": {},
   "source": [
    "## Question 1: Who are taking out loans at the same age?"
   ]
  },
  {
   "cell_type": "markdown",
   "metadata": {},
   "source": [
    "### Induce Bipartite Graph"
   ]
  },
  {
   "cell_type": "code",
   "execution_count": 27,
   "metadata": {
    "ExecuteTime": {
     "end_time": "2020-11-27T17:00:36.971170Z",
     "start_time": "2020-11-27T17:00:36.964594Z"
    }
   },
   "outputs": [],
   "source": [
    "## Question 1) connect Accounts (users) who took out loans at the same age (within a year)\n",
    "# output a adjacency list with edge wieghts = loaned age\n",
    "def q1(df):\n",
    "    df['loan_age'] = (df.date_applied - df.birth_number)\n",
    "    df['loan_age'] = df.loan_age.apply(\n",
    "        lambda x: round(x.total_seconds() / 86400 / 365, 0))\n",
    "    return df[['birth_number', 'account_id', 'date_applied', 'loan_age']]"
   ]
  },
  {
   "cell_type": "code",
   "execution_count": 28,
   "metadata": {
    "ExecuteTime": {
     "end_time": "2020-11-27T17:00:37.020201Z",
     "start_time": "2020-11-27T17:00:36.976129Z"
    },
    "scrolled": true
   },
   "outputs": [
    {
     "name": "stdout",
     "output_type": "stream",
     "text": [
      "number of edge values 51 \n"
     ]
    }
   ],
   "source": [
    "#def loan_ages(df):\n",
    "df1 = q1(graph)\n",
    "print(\"number of edge values %s \" % len(df1.loan_age.unique()))"
   ]
  },
  {
   "cell_type": "markdown",
   "metadata": {},
   "source": [
    "### One hop age loan network algorithm"
   ]
  },
  {
   "cell_type": "code",
   "execution_count": 29,
   "metadata": {
    "ExecuteTime": {
     "end_time": "2020-11-27T17:00:37.488243Z",
     "start_time": "2020-11-27T17:00:37.480853Z"
    }
   },
   "outputs": [],
   "source": [
    "## Alg: since each age egde will result in a\n",
    "# completely conected component (CCC) of the graph\n",
    "# we model the graph as an \"Edge\" Adjacency List\n",
    "# that is, model graph as dict where key are\n",
    "# edge weights, and values are list of accounts,\n",
    "# all of which are connected in graph\n",
    "# IE we can easly see the connected accounts by edge value\n",
    "# we get all the vertices in CCC based on age\n",
    "# (#CCC = # distinct edge values)\n",
    "def age_network(df):\n",
    "    # for each unordered pair in this age\n",
    "    df.sort_values(by=['loan_age'], ignore_index=True, inplace=True)\n",
    "    edge_bag = {}\n",
    "    for age in df.loan_age.unique():\n",
    "        edge_bag[age] = (df.loc[df.loan_age == age].account_id.to_numpy())\n",
    "    return edge_bag"
   ]
  },
  {
   "cell_type": "code",
   "execution_count": 30,
   "metadata": {
    "ExecuteTime": {
     "end_time": "2020-11-27T17:00:37.568757Z",
     "start_time": "2020-11-27T17:00:37.494950Z"
    }
   },
   "outputs": [],
   "source": [
    "age = age_network(df1)"
   ]
  },
  {
   "cell_type": "markdown",
   "metadata": {},
   "source": [
    "## Question 2: Which users get loaned similar amounts?"
   ]
  },
  {
   "cell_type": "markdown",
   "metadata": {},
   "source": [
    "### Induced Bipartite Graph"
   ]
  },
  {
   "cell_type": "code",
   "execution_count": 31,
   "metadata": {
    "ExecuteTime": {
     "end_time": "2020-11-27T17:00:38.526987Z",
     "start_time": "2020-11-27T17:00:38.522975Z"
    }
   },
   "outputs": [],
   "source": [
    "## Question 2)\n",
    "def q2(df):\n",
    "    return df[['birth_number', 'account_id', \"status\", 'amount']]"
   ]
  },
  {
   "cell_type": "markdown",
   "metadata": {},
   "source": [
    "### Algorithm"
   ]
  },
  {
   "cell_type": "code",
   "execution_count": 32,
   "metadata": {
    "ExecuteTime": {
     "end_time": "2020-11-27T17:00:39.024565Z",
     "start_time": "2020-11-27T17:00:39.017641Z"
    }
   },
   "outputs": [],
   "source": [
    "# bottom anchor amount binning by width.\n",
    "def amount_bins(df, spread=20000, ep=1):\n",
    "    ams = df.sort_values(by=['amount']).amount.unique()\n",
    "    return make_bins(ams, spread, ep)\n",
    "\n",
    "\n",
    "def make_bins(ams, spread, ep=0.0005):\n",
    "    #print(ams[0], ams[-1])\n",
    "    st = (ams[0])\n",
    "    ed = ams[-1]+0.1\n",
    "    rnd = 4\n",
    "    bin_start = np.around(np.arange(st, ed, spread), rnd)\n",
    "    bin_end = np.around((np.arange(st + spread-ep, ed + spread, spread)), rnd)\n",
    "    # combine arrays\n",
    "    bins = np.empty((0, 2))\n",
    "    for i, j in zip(bin_start, bin_end):\n",
    "        #print(i,j)\n",
    "        bins = np.vstack((bins, [i, j]))\n",
    "    return bins"
   ]
  },
  {
   "cell_type": "code",
   "execution_count": 33,
   "metadata": {
    "ExecuteTime": {
     "end_time": "2020-11-27T17:00:39.035258Z",
     "start_time": "2020-11-27T17:00:39.027227Z"
    }
   },
   "outputs": [],
   "source": [
    "## Alg:\n",
    "# we model the graph as an \"Edge\" Adjacency List\n",
    "# that is model graph as dict where key are\n",
    "# edge weights and values are list of accounts,\n",
    "# all of which are connected in graph\n",
    "# IE we can easly see the connected accounts by edge value\n",
    "# we get all the vertices in CCC based on amount range\n",
    "# (#CCC = # distinct edge values)\n",
    "def amount_network(df):\n",
    "    # for each unordered pair in this age\n",
    "    df.sort_values(by=['amount'], ignore_index=True, inplace=True)\n",
    "    edge_bag = {}\n",
    "    for low, high in amount_bins(df):\n",
    "        edge_bag[(low,\n",
    "                  high)] = df.loc[(df.amount >= low)\n",
    "                                  & (df.amount <= high)].account_id.to_numpy()\n",
    "    return edge_bag"
   ]
  },
  {
   "cell_type": "code",
   "execution_count": 34,
   "metadata": {
    "ExecuteTime": {
     "end_time": "2020-11-27T17:00:39.051862Z",
     "start_time": "2020-11-27T17:00:39.041874Z"
    }
   },
   "outputs": [
    {
     "name": "stdout",
     "output_type": "stream",
     "text": [
      "number of edge values 30 \n"
     ]
    }
   ],
   "source": [
    "df2 = q2(graph)\n",
    "print(\"number of edge values %s \" % len(amount_bins(df2)))"
   ]
  },
  {
   "cell_type": "code",
   "execution_count": 35,
   "metadata": {
    "ExecuteTime": {
     "end_time": "2020-11-27T17:00:39.106136Z",
     "start_time": "2020-11-27T17:00:39.055183Z"
    }
   },
   "outputs": [],
   "source": [
    "amount = amount_network(df2)"
   ]
  },
  {
   "cell_type": "markdown",
   "metadata": {},
   "source": [
    "## Question 3: Which users paid back similar percentages of loan on time?"
   ]
  },
  {
   "cell_type": "markdown",
   "metadata": {},
   "source": [
    "### Induced Bipartite Graph"
   ]
  },
  {
   "cell_type": "code",
   "execution_count": 36,
   "metadata": {
    "ExecuteTime": {
     "end_time": "2020-11-27T17:00:40.143324Z",
     "start_time": "2020-11-27T17:00:40.139371Z"
    }
   },
   "outputs": [],
   "source": [
    "## Question 2)\n",
    "def q3(df):\n",
    "    return df[['account_id', 'duration', 'payments', 'time', 'ave', 'total']]"
   ]
  },
  {
   "cell_type": "code",
   "execution_count": 37,
   "metadata": {
    "ExecuteTime": {
     "end_time": "2020-11-27T17:00:40.158899Z",
     "start_time": "2020-11-27T17:00:40.151971Z"
    }
   },
   "outputs": [],
   "source": [
    "df3 = q3(graph)"
   ]
  },
  {
   "cell_type": "markdown",
   "metadata": {},
   "source": [
    "### Algorithm"
   ]
  },
  {
   "cell_type": "code",
   "execution_count": 38,
   "metadata": {
    "ExecuteTime": {
     "end_time": "2020-11-27T17:00:40.769691Z",
     "start_time": "2020-11-27T17:00:40.761230Z"
    }
   },
   "outputs": [],
   "source": [
    "def get_extrap_paid(df):\n",
    "    dur = df.duration.to_numpy()\n",
    "    paym = df.payments.to_numpy()\n",
    "    tim = df.time.to_numpy()\n",
    "    tot = df.total.to_numpy()\n",
    "    ave = df.ave.to_numpy()\n",
    "    df['paid'] = np.around(((tot + (ave * (dur - tim))) / (dur * paym)), 3)\n",
    "    return df\n",
    "\n",
    "\n",
    "def get_paid(df):\n",
    "    dur = df.duration.to_numpy()\n",
    "    paym = df.payments.to_numpy()\n",
    "    tot = df.total.to_numpy()\n",
    "    df['paid'] = np.around((tot / (dur * paym)), 3)\n",
    "    return df\n",
    "\n",
    "\n",
    "def get_percentage_paid(df):\n",
    "    over = df.loc[(df.time >= df.duration)]\n",
    "    not_over = df.loc[(df.time < df.duration)]\n",
    "    return get_extrap_paid(not_over).append(get_paid(over))"
   ]
  },
  {
   "cell_type": "code",
   "execution_count": 39,
   "metadata": {
    "ExecuteTime": {
     "end_time": "2020-11-27T17:00:40.784246Z",
     "start_time": "2020-11-27T17:00:40.771795Z"
    }
   },
   "outputs": [],
   "source": [
    "def percentage_bins(df, spread=0.05):\n",
    "    ams = df.sort_values(by=['paid']).paid.unique()\n",
    "    return make_bins(ams, spread)"
   ]
  },
  {
   "cell_type": "code",
   "execution_count": 40,
   "metadata": {
    "ExecuteTime": {
     "end_time": "2020-11-27T17:00:40.792734Z",
     "start_time": "2020-11-27T17:00:40.787175Z"
    }
   },
   "outputs": [],
   "source": [
    "def payment_network(df):\n",
    "    df = get_percentage_paid(df)\n",
    "    # for each unordered pair in this age\n",
    "    df.sort_values(by=['paid'], ignore_index=True, inplace=True)\n",
    "    edge_bag = {}\n",
    "    for low, high in percentage_bins(df):\n",
    "        edge_bag[(low,\n",
    "                  high)] = df.loc[(df.paid >= low)\n",
    "                                  & (df.paid <= high)].account_id.to_numpy()\n",
    "    return edge_bag"
   ]
  },
  {
   "cell_type": "code",
   "execution_count": 41,
   "metadata": {
    "ExecuteTime": {
     "end_time": "2020-11-27T17:00:40.830201Z",
     "start_time": "2020-11-27T17:00:40.794919Z"
    }
   },
   "outputs": [],
   "source": [
    "# get_dur_extrap(test3) ## group users by percentage ranges not duration\n",
    "paid = payment_network(df3)"
   ]
  },
  {
   "cell_type": "markdown",
   "metadata": {},
   "source": [
    "## Build Multi-Graph from Edge Adjacency List to Three Node Adjacency Lists"
   ]
  },
  {
   "cell_type": "code",
   "execution_count": 42,
   "metadata": {
    "ExecuteTime": {
     "end_time": "2020-11-27T17:00:41.288197Z",
     "start_time": "2020-11-27T17:00:41.281396Z"
    }
   },
   "outputs": [],
   "source": [
    "def get_edge(nw, i):\n",
    "    for edge, nodes in nw.items():\n",
    "        if i in nodes:\n",
    "            return edge\n",
    "\n",
    "\n",
    "def network(df, nw1, nw2, nw3):\n",
    "    dic_graph = {}\n",
    "    for row in df.iterrows():\n",
    "        bday = row[1].birth_number\n",
    "        sex = row[1].sex\n",
    "        i = row[1].account_id\n",
    "        # find edges i is in in nw 1,2,3\n",
    "        age = get_edge(nw1, i)\n",
    "        amount = get_edge(nw2, i)\n",
    "        paid = get_edge(nw3, i)\n",
    "        dic_graph[i] = (bday, sex, age, amount, paid)\n",
    "    return dic_graph"
   ]
  },
  {
   "cell_type": "code",
   "execution_count": 43,
   "metadata": {
    "ExecuteTime": {
     "end_time": "2020-11-27T17:00:41.987902Z",
     "start_time": "2020-11-27T17:00:41.295023Z"
    }
   },
   "outputs": [
    {
     "data": {
      "text/plain": [
       "{2: (datetime.date(1945, 2, 4), 'c', 49.0, (64980.0, 84979.0), (1.0, 1.0495)),\n",
       " 97: (datetime.date(1942, 1, 28),\n",
       "  'c',\n",
       "  56.0,\n",
       "  (84980.0, 104979.0),\n",
       "  (1.0, 1.0495)),\n",
       " 132: (datetime.date(1938, 9, 10),\n",
       "  'c',\n",
       "  58.0,\n",
       "  (84980.0, 104979.0),\n",
       "  (1.0, 1.0495)),\n",
       " 173: (datetime.date(1939, 11, 30),\n",
       "  'c',\n",
       "  55.0,\n",
       "  (84980.0, 104979.0),\n",
       "  (1.0, 1.0495)),\n",
       " 314: (datetime.date(1935, 10, 8),\n",
       "  'c',\n",
       "  62.0,\n",
       "  (64980.0, 84979.0),\n",
       "  (1.0, 1.0495)),\n",
       " 330: (datetime.date(1967, 4, 20),\n",
       "  'c',\n",
       "  31.0,\n",
       "  (324980.0, 344979.0),\n",
       "  (1.0, 1.0495)),\n",
       " 339: (datetime.date(1945, 4, 1),\n",
       "  'c',\n",
       "  53.0,\n",
       "  (464980.0, 484979.0),\n",
       "  (1.0, 1.0495)),\n",
       " 349: (datetime.date(1937, 6, 1),\n",
       "  'c',\n",
       "  61.0,\n",
       "  (24980.0, 44979.0),\n",
       "  (1.0, 1.0495)),\n",
       " 666: (datetime.date(1936, 2, 19),\n",
       "  'c',\n",
       "  62.0,\n",
       "  (4980.0, 24979.0),\n",
       "  (1.0, 1.0495)),\n",
       " 675: (datetime.date(1940, 5, 28),\n",
       "  'c',\n",
       "  57.0,\n",
       "  (84980.0, 104979.0),\n",
       "  (1.0, 1.0495)),\n",
       " 789: (datetime.date(1970, 12, 18),\n",
       "  'c',\n",
       "  25.0,\n",
       "  (64980.0, 84979.0),\n",
       "  (1.0, 1.0495)),\n",
       " 940: (datetime.date(1959, 10, 1),\n",
       "  'c',\n",
       "  37.0,\n",
       "  (264980.0, 284979.0),\n",
       "  (1.0, 1.0495)),\n",
       " 1329: (datetime.date(1941, 11, 11),\n",
       "  'c',\n",
       "  56.0,\n",
       "  (4980.0, 24979.0),\n",
       "  (1.0, 1.0495)),\n",
       " 1407: (datetime.date(1944, 7, 19),\n",
       "  'c',\n",
       "  54.0,\n",
       "  (124980.0, 144979.0),\n",
       "  (1.0, 1.0495)),\n",
       " 1638: (datetime.date(1937, 12, 13),\n",
       "  'c',\n",
       "  60.0,\n",
       "  (44980.0, 64979.0),\n",
       "  (1.0, 1.0495)),\n",
       " 1808: (datetime.date(1974, 10, 22),\n",
       "  'c',\n",
       "  24.0,\n",
       "  (384980.0, 404979.0),\n",
       "  (1.0, 1.0495)),\n",
       " 1886: (datetime.date(1954, 8, 21),\n",
       "  'c',\n",
       "  42.0,\n",
       "  (144980.0, 164979.0),\n",
       "  (1.0, 1.0495)),\n",
       " 2035: (datetime.date(1943, 6, 14),\n",
       "  'c',\n",
       "  55.0,\n",
       "  (164980.0, 184979.0),\n",
       "  (1.0, 1.0495)),\n",
       " 2080: (datetime.date(1937, 9, 8),\n",
       "  'c',\n",
       "  60.0,\n",
       "  (204980.0, 224979.0),\n",
       "  (1.0, 1.0495)),\n",
       " 2142: (datetime.date(1960, 2, 27),\n",
       "  'c',\n",
       "  38.0,\n",
       "  (4980.0, 24979.0),\n",
       "  (1.0, 1.0495)),\n",
       " 2143: (datetime.date(1977, 6, 10),\n",
       "  'c',\n",
       "  19.0,\n",
       "  (64980.0, 84979.0),\n",
       "  (1.0, 1.0495)),\n",
       " 2187: (datetime.date(1940, 3, 26),\n",
       "  'c',\n",
       "  58.0,\n",
       "  (44980.0, 64979.0),\n",
       "  (1.0, 1.0495)),\n",
       " 2218: (datetime.date(1949, 8, 22),\n",
       "  'c',\n",
       "  46.0,\n",
       "  (164980.0, 184979.0),\n",
       "  (1.0, 1.0495)),\n",
       " 2227: (datetime.date(1977, 2, 23),\n",
       "  'c',\n",
       "  19.0,\n",
       "  (84980.0, 104979.0),\n",
       "  (1.0, 1.0495)),\n",
       " 2496: (datetime.date(1953, 11, 5),\n",
       "  'c',\n",
       "  42.0,\n",
       "  (164980.0, 184979.0),\n",
       "  (1.0, 1.0495)),\n",
       " 2545: (datetime.date(1936, 4, 14),\n",
       "  'c',\n",
       "  62.0,\n",
       "  (424980.0, 444979.0),\n",
       "  (1.0, 1.0495)),\n",
       " 2580: (datetime.date(1971, 2, 24),\n",
       "  'c',\n",
       "  25.0,\n",
       "  (84980.0, 104979.0),\n",
       "  (1.0, 1.0495)),\n",
       " 2622: (datetime.date(1962, 9, 10),\n",
       "  'c',\n",
       "  36.0,\n",
       "  (124980.0, 144979.0),\n",
       "  (1.0, 1.0495)),\n",
       " 2694: (datetime.date(1961, 3, 26),\n",
       "  'c',\n",
       "  33.0,\n",
       "  (84980.0, 104979.0),\n",
       "  (1.0, 1.0495)),\n",
       " 2720: (datetime.date(1936, 7, 2),\n",
       "  'c',\n",
       "  62.0,\n",
       "  (84980.0, 104979.0),\n",
       "  (1.0, 1.0495)),\n",
       " 2753: (datetime.date(1963, 9, 28),\n",
       "  'c',\n",
       "  34.0,\n",
       "  (64980.0, 84979.0),\n",
       "  (1.0, 1.0495)),\n",
       " 2933: (datetime.date(1939, 9, 2),\n",
       "  'c',\n",
       "  55.0,\n",
       "  (264980.0, 284979.0),\n",
       "  (1.0, 1.0495)),\n",
       " 2982: (datetime.date(1938, 8, 3),\n",
       "  'c',\n",
       "  60.0,\n",
       "  (24980.0, 44979.0),\n",
       "  (1.0, 1.0495)),\n",
       " 2988: (datetime.date(1947, 12, 9),\n",
       "  'c',\n",
       "  51.0,\n",
       "  (84980.0, 104979.0),\n",
       "  (1.0, 1.0495)),\n",
       " 3050: (datetime.date(1972, 2, 6),\n",
       "  'c',\n",
       "  23.0,\n",
       "  (64980.0, 84979.0),\n",
       "  (1.0, 1.0495)),\n",
       " 3112: (datetime.date(1978, 1, 29),\n",
       "  'c',\n",
       "  18.0,\n",
       "  (104980.0, 124979.0),\n",
       "  (1.0, 1.0495)),\n",
       " 3115: (datetime.date(1936, 9, 7),\n",
       "  'c',\n",
       "  60.0,\n",
       "  (304980.0, 324979.0),\n",
       "  (1.0, 1.0495)),\n",
       " 3143: (datetime.date(1948, 8, 15),\n",
       "  'c',\n",
       "  50.0,\n",
       "  (124980.0, 144979.0),\n",
       "  (1.0, 1.0495)),\n",
       " 3329: (datetime.date(1964, 10, 16),\n",
       "  'c',\n",
       "  33.0,\n",
       "  (4980.0, 24979.0),\n",
       "  (1.0, 1.0495)),\n",
       " 3418: (datetime.date(1962, 10, 15),\n",
       "  'c',\n",
       "  35.0,\n",
       "  (204980.0, 224979.0),\n",
       "  (1.0, 1.0495)),\n",
       " 3448: (datetime.date(1983, 8, 27),\n",
       "  'c',\n",
       "  14.0,\n",
       "  (64980.0, 84979.0),\n",
       "  (1.0, 1.0495)),\n",
       " 3460: (datetime.date(1941, 6, 23),\n",
       "  'c',\n",
       "  57.0,\n",
       "  (124980.0, 144979.0),\n",
       "  (1.0, 1.0495)),\n",
       " 3679: (datetime.date(1964, 3, 29),\n",
       "  'c',\n",
       "  32.0,\n",
       "  (424980.0, 444979.0),\n",
       "  (1.0, 1.0495)),\n",
       " 3754: (datetime.date(1976, 9, 16),\n",
       "  'c',\n",
       "  20.0,\n",
       "  (64980.0, 84979.0),\n",
       "  (1.0, 1.0495)),\n",
       " 3834: (datetime.date(1946, 2, 10),\n",
       "  'c',\n",
       "  49.0,\n",
       "  (4980.0, 24979.0),\n",
       "  (1.0, 1.0495)),\n",
       " 3906: (datetime.date(1955, 7, 23),\n",
       "  'c',\n",
       "  43.0,\n",
       "  (324980.0, 344979.0),\n",
       "  (1.0, 1.0495)),\n",
       " 4144: (datetime.date(1978, 6, 21),\n",
       "  'c',\n",
       "  20.0,\n",
       "  (204980.0, 224979.0),\n",
       "  (1.0, 1.0495)),\n",
       " 4268: (datetime.date(1973, 3, 9),\n",
       "  'c',\n",
       "  26.0,\n",
       "  (24980.0, 44979.0),\n",
       "  (1.0, 1.0495)),\n",
       " 4361: (datetime.date(1948, 9, 16),\n",
       "  'c',\n",
       "  49.0,\n",
       "  (84980.0, 104979.0),\n",
       "  (1.0, 1.0495)),\n",
       " 4413: (datetime.date(1968, 3, 28),\n",
       "  'c',\n",
       "  27.0,\n",
       "  (204980.0, 224979.0),\n",
       "  (1.0, 1.0495)),\n",
       " 4414: (datetime.date(1950, 2, 1),\n",
       "  'c',\n",
       "  45.0,\n",
       "  (84980.0, 104979.0),\n",
       "  (1.0, 1.0495)),\n",
       " 4427: (datetime.date(1961, 5, 2),\n",
       "  'c',\n",
       "  33.0,\n",
       "  (84980.0, 104979.0),\n",
       "  (1.0, 1.0495)),\n",
       " 4447: (datetime.date(1964, 3, 14),\n",
       "  'c',\n",
       "  33.0,\n",
       "  (184980.0, 204979.0),\n",
       "  (1.0, 1.0495)),\n",
       " 4448: (datetime.date(1979, 6, 6),\n",
       "  'c',\n",
       "  15.0,\n",
       "  (184980.0, 204979.0),\n",
       "  (1.0, 1.0495)),\n",
       " 4585: (datetime.date(1947, 3, 19),\n",
       "  'c',\n",
       "  50.0,\n",
       "  (44980.0, 64979.0),\n",
       "  (1.0, 1.0495)),\n",
       " 4631: (datetime.date(1951, 2, 16),\n",
       "  'c',\n",
       "  47.0,\n",
       "  (84980.0, 104979.0),\n",
       "  (1.0, 1.0495)),\n",
       " 4774: (datetime.date(1948, 5, 8),\n",
       "  'c',\n",
       "  47.0,\n",
       "  (464980.0, 484979.0),\n",
       "  (1.0, 1.0495)),\n",
       " 4784: (datetime.date(1955, 3, 10),\n",
       "  'c',\n",
       "  43.0,\n",
       "  (204980.0, 224979.0),\n",
       "  (1.0, 1.0495)),\n",
       " 4825: (datetime.date(1968, 9, 9),\n",
       "  'c',\n",
       "  27.0,\n",
       "  (4980.0, 24979.0),\n",
       "  (1.0, 1.0495)),\n",
       " 4851: (datetime.date(1952, 7, 17),\n",
       "  'c',\n",
       "  44.0,\n",
       "  (124980.0, 144979.0),\n",
       "  (1.0, 1.0495)),\n",
       " 4999: (datetime.date(1963, 4, 10),\n",
       "  'c',\n",
       "  34.0,\n",
       "  (164980.0, 184979.0),\n",
       "  (1.0, 1.0495)),\n",
       " 5126: (datetime.date(1952, 5, 27),\n",
       "  'c',\n",
       "  44.0,\n",
       "  (4980.0, 24979.0),\n",
       "  (1.0, 1.0495)),\n",
       " 5180: (datetime.date(1941, 5, 21),\n",
       "  'c',\n",
       "  57.0,\n",
       "  (44980.0, 64979.0),\n",
       "  (1.0, 1.0495)),\n",
       " 5228: (datetime.date(1950, 3, 5),\n",
       "  'c',\n",
       "  44.0,\n",
       "  (164980.0, 184979.0),\n",
       "  (1.0, 1.0495)),\n",
       " 5362: (datetime.date(1934, 11, 30),\n",
       "  'c',\n",
       "  63.0,\n",
       "  (184980.0, 204979.0),\n",
       "  (1.0, 1.0495)),\n",
       " 5422: (datetime.date(1974, 8, 4),\n",
       "  'c',\n",
       "  22.0,\n",
       "  (364980.0, 384979.0),\n",
       "  (1.0, 1.0495)),\n",
       " 5591: (datetime.date(1946, 6, 4),\n",
       "  'c',\n",
       "  51.0,\n",
       "  (204980.0, 224979.0),\n",
       "  (1.0, 1.0495)),\n",
       " 5632: (datetime.date(1981, 6, 7),\n",
       "  'c',\n",
       "  14.0,\n",
       "  (284980.0, 304979.0),\n",
       "  (1.0, 1.0495)),\n",
       " 5698: (datetime.date(1944, 1, 14),\n",
       "  'c',\n",
       "  55.0,\n",
       "  (84980.0, 104979.0),\n",
       "  (1.0, 1.0495)),\n",
       " 5794: (datetime.date(1967, 6, 30),\n",
       "  'c',\n",
       "  29.0,\n",
       "  (104980.0, 124979.0),\n",
       "  (1.0, 1.0495)),\n",
       " 6138: (datetime.date(1955, 10, 17),\n",
       "  'c',\n",
       "  42.0,\n",
       "  (64980.0, 84979.0),\n",
       "  (1.0, 1.0495)),\n",
       " 6148: (datetime.date(1958, 11, 26),\n",
       "  'c',\n",
       "  36.0,\n",
       "  (44980.0, 64979.0),\n",
       "  (1.0, 1.0495)),\n",
       " 6397: (datetime.date(1968, 2, 23),\n",
       "  'c',\n",
       "  29.0,\n",
       "  (164980.0, 184979.0),\n",
       "  (1.0, 1.0495)),\n",
       " 6461: (datetime.date(1970, 7, 30),\n",
       "  'c',\n",
       "  27.0,\n",
       "  (144980.0, 164979.0),\n",
       "  (1.0, 1.0495)),\n",
       " 6950: (datetime.date(1966, 5, 6),\n",
       "  'c',\n",
       "  31.0,\n",
       "  (464980.0, 484979.0),\n",
       "  (1.0, 1.0495)),\n",
       " 6985: (datetime.date(1961, 9, 11),\n",
       "  'c',\n",
       "  35.0,\n",
       "  (84980.0, 104979.0),\n",
       "  (1.0, 1.0495)),\n",
       " 7133: (datetime.date(1948, 10, 26),\n",
       "  'c',\n",
       "  46.0,\n",
       "  (44980.0, 64979.0),\n",
       "  (1.0, 1.0495)),\n",
       " 7190: (datetime.date(1955, 8, 14),\n",
       "  'c',\n",
       "  40.0,\n",
       "  (44980.0, 64979.0),\n",
       "  (1.0, 1.0495)),\n",
       " 7240: (datetime.date(1948, 7, 10),\n",
       "  'c',\n",
       "  50.0,\n",
       "  (144980.0, 164979.0),\n",
       "  (1.0, 1.0495)),\n",
       " 7401: (datetime.date(1945, 2, 4),\n",
       "  'c',\n",
       "  49.0,\n",
       "  (64980.0, 84979.0),\n",
       "  (1.0, 1.0495)),\n",
       " 7485: (datetime.date(1958, 4, 5),\n",
       "  'c',\n",
       "  36.0,\n",
       "  (84980.0, 104979.0),\n",
       "  (1.0, 1.0495)),\n",
       " 7607: (datetime.date(1950, 4, 10),\n",
       "  'c',\n",
       "  45.0,\n",
       "  (24980.0, 44979.0),\n",
       "  (1.0, 1.0495)),\n",
       " 7614: (datetime.date(1965, 5, 9),\n",
       "  'c',\n",
       "  31.0,\n",
       "  (304980.0, 324979.0),\n",
       "  (1.0, 1.0495)),\n",
       " 7632: (datetime.date(1942, 5, 5),\n",
       "  'c',\n",
       "  56.0,\n",
       "  (164980.0, 184979.0),\n",
       "  (1.0, 1.0495)),\n",
       " 7637: (datetime.date(1978, 9, 26),\n",
       "  'c',\n",
       "  18.0,\n",
       "  (384980.0, 404979.0),\n",
       "  (1.0, 1.0495)),\n",
       " 7795: (datetime.date(1945, 1, 26),\n",
       "  'c',\n",
       "  52.0,\n",
       "  (364980.0, 384979.0),\n",
       "  (1.0, 1.0495)),\n",
       " 7815: (datetime.date(1945, 9, 24),\n",
       "  'c',\n",
       "  50.0,\n",
       "  (184980.0, 204979.0),\n",
       "  (1.0, 1.0495)),\n",
       " 7859: (datetime.date(1959, 2, 3),\n",
       "  'c',\n",
       "  38.0,\n",
       "  (64980.0, 84979.0),\n",
       "  (1.0, 1.0495)),\n",
       " 7907: (datetime.date(1960, 6, 23),\n",
       "  'c',\n",
       "  37.0,\n",
       "  (84980.0, 104979.0),\n",
       "  (1.0, 1.0495)),\n",
       " 7957: (datetime.date(1964, 9, 21),\n",
       "  'c',\n",
       "  33.0,\n",
       "  (24980.0, 44979.0),\n",
       "  (1.0, 1.0495)),\n",
       " 7965: (datetime.date(1945, 8, 3),\n",
       "  'c',\n",
       "  49.0,\n",
       "  (64980.0, 84979.0),\n",
       "  (1.0, 1.0495)),\n",
       " 8051: (datetime.date(1960, 4, 20),\n",
       "  'c',\n",
       "  34.0,\n",
       "  (204980.0, 224979.0),\n",
       "  (1.0, 1.0495)),\n",
       " 8127: (datetime.date(1968, 4, 17),\n",
       "  'c',\n",
       "  28.0,\n",
       "  (144980.0, 164979.0),\n",
       "  (1.0, 1.0495)),\n",
       " 8159: (datetime.date(1973, 6, 27),\n",
       "  'c',\n",
       "  22.0,\n",
       "  (24980.0, 44979.0),\n",
       "  (1.0, 1.0495)),\n",
       " 8173: (datetime.date(1978, 1, 5),\n",
       "  'c',\n",
       "  16.0,\n",
       "  (64980.0, 84979.0),\n",
       "  (1.0, 1.0495)),\n",
       " 8260: (datetime.date(1976, 5, 24),\n",
       "  'c',\n",
       "  18.0,\n",
       "  (204980.0, 224979.0),\n",
       "  (1.0, 1.0495)),\n",
       " 8261: (datetime.date(1985, 10, 19),\n",
       "  'c',\n",
       "  8.0,\n",
       "  (84980.0, 104979.0),\n",
       "  (1.0, 1.0495)),\n",
       " 8320: (datetime.date(1956, 10, 11),\n",
       "  'c',\n",
       "  41.0,\n",
       "  (304980.0, 324979.0),\n",
       "  (1.0, 1.0495)),\n",
       " 8321: (datetime.date(1976, 11, 16),\n",
       "  'c',\n",
       "  17.0,\n",
       "  (84980.0, 104979.0),\n",
       "  (1.0, 1.0495)),\n",
       " 8330: (datetime.date(1959, 6, 7),\n",
       "  'c',\n",
       "  35.0,\n",
       "  (4980.0, 24979.0),\n",
       "  (1.0, 1.0495)),\n",
       " 8377: (datetime.date(1958, 11, 10),\n",
       "  'c',\n",
       "  37.0,\n",
       "  (404980.0, 424979.0),\n",
       "  (1.0, 1.0495)),\n",
       " 8489: (datetime.date(1950, 12, 4),\n",
       "  'c',\n",
       "  45.0,\n",
       "  (264980.0, 284979.0),\n",
       "  (1.0, 1.0495)),\n",
       " 8519: (datetime.date(1950, 1, 15),\n",
       "  'c',\n",
       "  45.0,\n",
       "  (64980.0, 84979.0),\n",
       "  (1.05, 1.0995)),\n",
       " 8564: (datetime.date(1949, 1, 7),\n",
       "  'c',\n",
       "  46.0,\n",
       "  (64980.0, 84979.0),\n",
       "  (1.0, 1.0495)),\n",
       " 8680: (datetime.date(1938, 5, 3),\n",
       "  'c',\n",
       "  58.0,\n",
       "  (84980.0, 104979.0),\n",
       "  (1.0, 1.0495)),\n",
       " 8742: (datetime.date(1976, 3, 19),\n",
       "  'c',\n",
       "  21.0,\n",
       "  (24980.0, 44979.0),\n",
       "  (1.0, 1.0495)),\n",
       " 8919: (datetime.date(1964, 6, 13),\n",
       "  'c',\n",
       "  34.0,\n",
       "  (64980.0, 84979.0),\n",
       "  (1.0, 1.0495)),\n",
       " 8926: (datetime.date(1967, 12, 19),\n",
       "  'c',\n",
       "  30.0,\n",
       "  (564980.0, 584979.0),\n",
       "  (1.0, 1.0495)),\n",
       " 8982: (datetime.date(1953, 7, 9),\n",
       "  'c',\n",
       "  41.0,\n",
       "  (224980.0, 244979.0),\n",
       "  (1.0, 1.0495)),\n",
       " 9030"
      ]
     },
     "execution_count": 43,
     "metadata": {},
     "output_type": "execute_result"
    },
    {
     "data": {
      "text/html": [
       "<b>limit_output extension: Maximum message size of 10000 exceeded with 62832 characters</b>"
      ]
     },
     "metadata": {},
     "output_type": "display_data"
    }
   ],
   "source": [
    "net = network(graph, age, amount, paid)\n",
    "(net)  ## set U"
   ]
  },
  {
   "cell_type": "code",
   "execution_count": 44,
   "metadata": {
    "ExecuteTime": {
     "end_time": "2020-11-27T17:00:42.002071Z",
     "start_time": "2020-11-27T17:00:41.990071Z"
    }
   },
   "outputs": [
    {
     "data": {
      "text/plain": [
       "{8.0: array([8261]),\n",
       " 14.0: array([5632, 9869, 3448, 9265]),\n",
       " 15.0: array([ 4448, 11013, 10320,  2343]),\n",
       " 16.0: array([5442, 6924, 5033, 4650, 6425, 5622, 8173, 3037]),\n",
       " 17.0: array([ 2322,  4948,  8327,  3629,  7857,  4803, 11186,  8321,  8169,\n",
       "        10788,  8523]),\n",
       " 18.0: array([ 1083,  7049,  8772, 10645,  3112,  6856,  9030,  4863,  9242,\n",
       "         7637,  8260,  9491]),\n",
       " 19.0: array([11054,  1876,  2227,  1527, 10652,  6472,   846,  4033,  4052,\n",
       "        11021, 10451,  9583,  6609,  6738,  2143, 10644,  6706,  9750,\n",
       "         6592,  1993, 10663]),\n",
       " 20.0: array([ 2064,  4858,  2106, 10005,  5263,  9307, 11327,  6440,  4503,\n",
       "         3754,  4144,  2445,  9424,  6083,  2699]),\n",
       " 21.0: array([11265, 10079,  5256,  7562, 10799,  3562, 11042,  3664,  8381,\n",
       "         8742]),\n",
       " 22.0: array([ 8159, 11141,  4580, 10093,  7565,  2051, 10001,  8268,  5422,\n",
       "         4616]),\n",
       " 23.0: array([11317,  9472,  4981,  3166,   319,  8776,  6701,  6062,  2572,\n",
       "         3050,  7546,  1004,  2116]),\n",
       " 24.0: array([ 9731,  9814,  4476,  1808,  5267, 10973,  5270,  5700,  2350,\n",
       "         8114,  8039,  8625,  6075,  1247,  2279,  7594]),\n",
       " 25.0: array([ 6097, 11271,   789,  2268,  2580,  1801,  9928,  9225,  4907,\n",
       "         7559,  3608,  6030,  1166,  7824]),\n",
       " 26.0: array([ 5742,  3916,  9627,  5837,  7753, 10520, 10940,  9263,   309,\n",
       "         9833,  4268]),\n",
       " 27.0: array([ 2762,  7997,  9560,  7180,  4825,  6461,  4260,  4626,  3678,\n",
       "         1583,  2936, 11079,   873,  4413,  8713,   276,  6555,  5445,\n",
       "         7099,  8027]),\n",
       " 28.0: array([ 1906, 11359,  2055,  8127,  4423,  4081,  4456,  2176,  5774]),\n",
       " 29.0: array([ 5794,  6397,  8129,  6922,  2167,   426,  5283,  8475, 10404,\n",
       "         7894,   344,  9034, 10134,  5072,  9159, 10105,  9646]),\n",
       " 30.0: array([10345,  7542,   103,  5927,  2352,  6649,  4467,   176,  4576,\n",
       "         2245,  3064,  9493,  4994,  9208,  9548,  1374,  7966,  4618,\n",
       "         1580,  8926]),\n",
       " 31.0: array([ 7990,  1106,   501,  5269,  6950, 10215,  6678,   330,  5385,\n",
       "         8038,  7181,  8405,  9377,  7614]),\n",
       " 32.0: array([ 6495,  6273,  5952,  3679,  3752,  9227,  4852,  9052,   993,\n",
       "         6510,  1978,  2994,  6699,  1869,  6715,  6902,  9236,  5650,\n",
       "         1447, 10411, 10019]),\n",
       " 33.0: array([ 5001,  5118,  9140,  3711,  7957, 11138,  8158, 10364,  9645,\n",
       "         2694,  4447,  4427,  9859,  3329, 10148,   816]),\n",
       " 34.0: array([10131,  9897,  6358, 10613,  5593, 11362,  8919,  8051, 11069,\n",
       "         6930,  2753, 10257, 10202,  3403,  4999]),\n",
       " 35.0: array([ 9510, 10266,  3859,  6505, 11135,  1528,  5912,  6061,  2486,\n",
       "         8094,   817,  6226,  8330,  3293, 10679, 10280,  4259,  9337,\n",
       "         6985,  3418,  4473,  1252]),\n",
       " 36.0: array([ 7523,  2622,  6148,    25, 10954,  7485,   960,  4727,   378,\n",
       "         7769,  8639,  7424,  5317,  4794,  7123]),\n",
       " 37.0: array([ 5991,  9006,  9179,  3021,  1603,  8377,  5735,   472,  1270,\n",
       "         9104,  4099, 11111, 10762,   940,  7907,  5891,  9201]),\n",
       " 38.0: array([ 1375,  8092,  6400,  7454,  3953,  7859,  3747, 10063,  2236,\n",
       "         3907,  2142]),\n",
       " 39.0: array([ 2361, 10905,   808,  6686, 11027,  9017,  7674,   813,  6434,\n",
       "         2334, 10351, 10630,  4681, 10728]),\n",
       " 40.0: array([ 2986,  8492, 10911,  8972,  8784,  7190,  6158,  3249, 10478,\n",
       "          440,  9631, 10942,  5572,  1888]),\n",
       " 41.0: array([  525,  5481,  1093,   718,  5196,  4415,  4293,  8982,   854,\n",
       "         8320,  9037, 10439,  9093,  1967,  2165,  7861,  2728,  2456,\n",
       "         3674]),\n",
       " 42.0: array([10068,  9433,  1886,  2073,  7713,  3230,  2496,  3354,  6353,\n",
       "        11096,  6138, 10857,  5066,  5305, 10445,   303,  4715]),\n",
       " 43.0: array([ 7844,  4937,  4784,  2134,  1772,  2705,  5477, 10297,   790,\n",
       "         3906, 10243]),\n",
       " 44.0: array([ 5313,  5358,  3489,  1071,  5228,  5126, 10963,  3353,  7176,\n",
       "         5395,  9024,  4851,  2754,  4660]),\n",
       " 45.0: array([2872, 4414, 2413, 6051, 2910, 8519, 4337, 8533, 5215,  110, 9241,\n",
       "        9633, 1766, 1819, 3273, 5428, 7274, 3161, 7607, 4746, 8489]),\n",
       " 46.0: array([11328,    37,  2345,  7890,   785,  1242,  2912,  7133,  2218,\n",
       "         6688,  1698,  8564,  1787]),\n",
       " 47.0: array([ 4774,  7606,  3556,  7819,  3804,  4725,  3137,  6453, 10915,\n",
       "         1862,  2824,  7765,  1498,  2246,  2247,  9455,  7926,  6289,\n",
       "         4190,  8085,  4631,  5628]),\n",
       " 48.0: array([ 6473,  7733,  8073,   105,   347,  3875,  9504, 10650, 10365]),\n",
       " 49.0: array([ 8645, 11244,     2,  9031,   825, 10440,  8931,  6363,  2262,\n",
       "         7965,  9199,  1012,  1256,  4361,  1776,  7401,  3834]),\n",
       " 50.0: array([ 4342, 10233,  1928,  7052,  2228, 11231,  7815,  9591,  7240,\n",
       "         4585,  9403,  4550,  3143]),\n",
       " 51.0: array([ 3005,  3084,  1244,  5591,  8547,  2988,  9138,  8688,  2516,\n",
       "         2335, 10065,  7721]),\n",
       " 52.0: array([3637, 4116, 2725, 8899, 9513, 8566, 9494,   67, 7795, 4320, 1811,\n",
       "        1011, 5574]),\n",
       " 53.0: array([ 8411, 11349, 10789,  9790,  9730,  7082,   339,  6792,  3390,\n",
       "        10884, 11065,  1480,  6034,  1843,  8041]),\n",
       " 54.0: array([  290,  2419,  5602,   544,  7184,  4949,  4533,  1284,  9656,\n",
       "         5541,  7445, 10022,  5944,   226,  2153,  9673,  7045,  5120,\n",
       "         1407, 10049]),\n",
       " 55.0: array([5181, 1718, 1250, 2933,  173, 5133, 2035, 9235, 8026, 8316, 1762,\n",
       "        5698]),\n",
       " 56.0: array([ 2962,  9422, 10774,  1329,  9828,   442,    97,  2062,  7632,\n",
       "         6040,  7156,  3862,  4079,  6157,  7636,  7745]),\n",
       " 57.0: array([  675,  5180,  3460,  7262,  7418,    19,  9167,  7136, 10361,\n",
       "         9640,  4354, 10812,  4995,  9188,  6118, 10493,  2018, 10436]),\n",
       " 58.0: array([ 9677,  4894,  2187,  5724,  1389,  3189,  3942,    38,  1656,\n",
       "         8680,   132, 10738,  5164,   938,  7437]),\n",
       " 59.0: array([ 4127,  3967, 10711,  9153,  9353,  8558,  1318]),\n",
       " 60.0: array([3229, 1638, 8225, 3115, 8505, 2982, 5213, 2080, 6265, 4969]),\n",
       " 61.0: array([  349,   915,  4462, 10807,  2000,  9156,  3455]),\n",
       " 62.0: array([2720,  666,  314, 1068, 2545]),\n",
       " 63.0: array([5362])}"
      ]
     },
     "execution_count": 44,
     "metadata": {},
     "output_type": "execute_result"
    }
   ],
   "source": [
    "## age edge clusters\n",
    "age"
   ]
  },
  {
   "cell_type": "code",
   "execution_count": 45,
   "metadata": {
    "ExecuteTime": {
     "end_time": "2020-11-27T17:00:42.017735Z",
     "start_time": "2020-11-27T17:00:42.006349Z"
    }
   },
   "outputs": [
    {
     "data": {
      "text/plain": [
       "{(4980.0,\n",
       "  24979.0): array([ 3354,  6061,  8330,  8268,  6453,  5033,  6040,   666,  7559,\n",
       "         3637,  5215,  4476,  3064,  9140,  6792,  6363,  2413,  9513,\n",
       "         3752, 10954, 10001,  3329,  2268,  4580,  5126,  7819,  8475,\n",
       "         4825,  7861, 10364, 10148,   938,  5164,  2134,  6688,  3834,\n",
       "         9242,  2142, 10445,  1329,  3674, 10711,   813,  2486,  2986]),\n",
       " (24980.0,\n",
       "  44979.0): array([ 6930,  6097,   176,  7765,  6030,  9199,  8159,  3161,  1766,\n",
       "         7418,    19,    25,  7424, 10799,  5774,  2962, 10345,  9677,\n",
       "         7607,  5541,  8742,  4626,  8776,  6440,  8038,  1244,  9897,\n",
       "         8225,  9472,  6425, 10257,  6738,  1869,  9034,  6505,  2018,\n",
       "         3229, 11327,  9265,  9263,  3390,  2982,  4099,  9307,  7546,\n",
       "         4268,  7636,   349,  8505,  7957,  6472,  1776,  3489, 10215,\n",
       "         5593,  5574,  2073,  9433, 11141,  1906]),\n",
       " (44980.0,\n",
       "  64979.0): array([ 8972,  1375,  7721, 10652, 10788, 10789,  9548,  2322,  7123,\n",
       "         8625, 11027,  2334,   816,  7133,  2994,  7274,  6902,  8073,\n",
       "         2352,  7156,  7181,  9031,  2824,  1083,  4320,  4337,  7753,\n",
       "         9337,  9153,  1284, 11265,   825,  5118,  2187, 11359, 10436,\n",
       "         7445,  1928,  8092,  5133, 10905,  1888,  5180,  4803,  9631,\n",
       "         9633,  6148, 10440,  6609,  5991,  4550,  2153,  5066,  3804,\n",
       "         7454,  7190,  3953,  7052,  1638,  4585,  6706]),\n",
       " (64980.0,\n",
       "  84979.0): array([ 5891,  2753,  4462,  4616,  4618,   314, 11271, 10807,  3455,\n",
       "         6138,  8688,  7857,  3249,  5358,  1993,  3754,  3448, 10762,\n",
       "        11065,  9159,  2725,  9024,  1256,  2143,  7965,  3403,  9052,\n",
       "         7859,  6400,  2247,   789,  7262,  4423,  4415,  7136,  8784,\n",
       "         8519,  8129,  1270,  3862, 10266,  4863,  8919,  3747,  9640,\n",
       "         8564,  6473,   718,  6510,  3230,  7745,  8027, 10068,  2165,\n",
       "         5445,  5944,  1603,  7890,  5270,  4259,  5196,  6353,  8173,\n",
       "            2,  7401,  4533,  9208,  3050,  5622,  9235,  2064,  9424,\n",
       "         7926,  4033,   440,  3967]),\n",
       " (84980.0,\n",
       "  104979.0): array([ 6289,  8680,  8492,  9422,  2062,  4467,  9236, 10361,  5927,\n",
       "          854,  6273,  6265,  4631,  4427,  8261,  9673,  8772,   132,\n",
       "         2988, 10351,  8321, 11231,  9928,  2580, 11138,  4361,  5317,\n",
       "          544,  7485,   309,  7844, 10049,  2694,  2116,  2227,  8523,\n",
       "         8039,  2720,  2705,  4473,  7674,  3273,  6701,  2419,  9814,\n",
       "         1787,  6985,  3916,  4715,  4414,  7907,  9833,  8169,  1012,\n",
       "        11079,  5650,  4907,  5698,  8114,  2343,  1247,  7180,  9377,\n",
       "         1447,  4342,  9017,  6649,  4127,   344,  2106,   675,    97,\n",
       "         5700,  9591,  9583,   173,  6495]),\n",
       " (104980.0,\n",
       "  124979.0): array([ 1843,  4052,  4660,  3942,  4727, 11111,   993,   226,  5001,\n",
       "         6434,    38,  7437,  2762,   303, 10243, 10884,  9731, 10963,\n",
       "        10738,  9730,  6686,  9494,  4894,  5269, 11069,  9403, 10105,\n",
       "         9201,  3112,  1480, 10411,  5794,   290,  6856]),\n",
       " (124980.0,\n",
       "  144979.0): array([ 8899,  1389,  1407,  9828,  9188,  6699,  8026,  1242,  4995,\n",
       "         5267, 11362,  7594,  3143, 10911, 10493,  3907,  9790,  8316,\n",
       "         4503,  2622, 10134,  6715,  4081,  2236,  6922,  9656,  7733,\n",
       "         8041,  3460, 10812,  5572,  5952,  4851,  1698,  1819,  4937,\n",
       "         7990]),\n",
       " (144980.0,\n",
       "  164979.0): array([ 3353,  1252, 11054,  1166,  5385,  4969,  6461,  4116, 10439,\n",
       "         9750,  7240, 10915,  7894,  7565,  3875, 10973, 10728,  9030,\n",
       "         3021,  7184, 11244,  8127,   785,  2728,  2361,  9560,  5395,\n",
       "         3629,  4079,  2350,  7997,   276,  3608,  1886,   110,  4681,\n",
       "         9156,  1527,  4293,  9225]),\n",
       " (164980.0,\n",
       "  184979.0): array([ 2496,  4999,  1498,    67,  1801, 10079,  4725, 11021,  2167,\n",
       "         7632,  8713,  5283,  9104,  1718,  8547,  5228,  8533,  5442,\n",
       "         5428,  3556,  3562,  9645,  2035,  5602,  3166,  5837,   873,\n",
       "         4981,  6397,  2218, 11135,  1250,  5912]),\n",
       " (184980.0,\n",
       "  204979.0): array([ 1318,  8639,  2228,  8931,  9006,   846,   347,  1004,  9353,\n",
       "         9493,   960,  9093,  7815,  7824,  1656,  1528,  9227,  7606,\n",
       "         1106,  4447,  4448,  5256,  7082,  1580, 10404,  6924, 10019,\n",
       "         7769, 10650,   472, 10940, 10679, 10630,  2345,  2456,  1772,\n",
       "         5362,  7176,  1011,  4746]),\n",
       " (204980.0,\n",
       "  224979.0): array([ 1978,  3418,   790,  8051, 10645,  1876,  5481,   525, 10005,\n",
       "         6555,  4144,  4852, 11096,  2080,  9179, 10131,   808, 11042,\n",
       "        10022,  4784,  8094,  7713,  8411,  4413,  5591,  3189,  8260]),\n",
       " (224980.0,\n",
       "  244979.0): array([ 5628,  9491,  8982,  9510,  2262,  8566,   378,  2699, 10093,\n",
       "         5742,  5724, 10063,  7099,  8158, 10233,  1811,  5305,  8645,\n",
       "         9627,  4260]),\n",
       " (244980.0,\n",
       "  264979.0): array([ 8327,  6157,  6158,  1762,  1967, 10613,   426,  1068,  1071,\n",
       "         3084,  3137,  4994, 10320, 10663,  8085, 10365,   501]),\n",
       " (264980.0,\n",
       "  284979.0): array([  103,  8489,  8405, 10478,  2872, 10644,  6358,  6118,  2055,\n",
       "         3664,  9167,  9138,  2933, 11013,  3293,  5263,  6051,  3037,\n",
       "         9646, 11328,   940]),\n",
       " (284980.0,\n",
       "  304979.0): array([9241, 5632, 8558, 7523, 7045, 4949, 5735, 2000, 2445, 2051, 6678,\n",
       "        2176, 4576, 9859, 5313]),\n",
       " (304980.0,\n",
       "  324979.0): array([10202,  3859,   915,  7562,  8320, 10065, 10942,  2279,  3678,\n",
       "        11317,  5072,    37,  7614,  5213,  3115,  4456,  6062,  9037,\n",
       "         5120]),\n",
       " (324980.0,\n",
       "  344979.0): array([ 4354,  9869,   330,  8381,  3906,  4858,  2754, 10774,  9504]),\n",
       " (344980.0,\n",
       "  364979.0): array([ 2245, 10280,  5477,   105,   442,  4948,  2572,  6083]),\n",
       " (364980.0, 384979.0): array([5422,  319, 7795, 9455, 2912]),\n",
       " (384980.0,\n",
       "  404979.0): array([ 1093, 10857,  1808,  1583,  1374,  3005,  7637,  6592, 11186,\n",
       "         1862,  6226,  5181,  4650]),\n",
       " (404980.0,\n",
       "  424979.0): array([ 4190,  6075,  2246,  8377, 10520, 11349, 10297]),\n",
       " (424980.0, 444979.0): array([2545, 2910, 3679]),\n",
       " (444980.0, 464979.0): array([3711, 6034]),\n",
       " (464980.0,\n",
       "  484979.0): array([ 4774,  4794,  2516,   339,  7966,  6950, 10451]),\n",
       " (484980.0, 504979.0): array([7049, 2936]),\n",
       " (504980.0, 524979.0): array([], dtype=int64),\n",
       " (524980.0, 544979.0): array([ 817, 2335]),\n",
       " (544980.0, 564979.0): array([], dtype=int64),\n",
       " (564980.0, 584979.0): array([8926]),\n",
       " (584980.0, 604979.0): array([7542])}"
      ]
     },
     "execution_count": 45,
     "metadata": {},
     "output_type": "execute_result"
    }
   ],
   "source": [
    "## amount edges\n",
    "amount"
   ]
  },
  {
   "cell_type": "code",
   "execution_count": 46,
   "metadata": {
    "ExecuteTime": {
     "end_time": "2020-11-27T17:00:42.040244Z",
     "start_time": "2020-11-27T17:00:42.022783Z"
    }
   },
   "outputs": [
    {
     "data": {
      "text/plain": [
       "{(0.5, 0.5495): array([8566]),\n",
       " (0.55, 0.5995): array([5442]),\n",
       " (0.6, 0.6495): array([], dtype=int64),\n",
       " (0.65, 0.6995): array([], dtype=int64),\n",
       " (0.7, 0.7495): array([10131,  6609]),\n",
       " (0.75, 0.7995): array([3953, 3273, 4618, 4462, 5428, 4081]),\n",
       " (0.8, 0.8495): array([2236, 7824, 1106, 6034]),\n",
       " (0.85, 0.8995): array([3037,  790, 5927]),\n",
       " (0.9,\n",
       "  0.9495): array([ 3859,  3678,  6075,  6118, 11021,  1527,  1583,   347,  4320,\n",
       "         6473,  2176, 10266,  3711,  8073,  3189,  8381,  3166,  5213,\n",
       "         1247,  9017,  4995,  3084]),\n",
       " (0.95,\n",
       "  0.9995): array([ 5735, 10451,  8085,  2335,  7966,   472,  6083,  3353,   808,\n",
       "         9750,   426, 10857,  1318,   103,  6051,  7052,  9006, 10478,\n",
       "         9646,  4794,  4969,  6715, 10942]),\n",
       " (1.0,\n",
       "  1.0495): array([11069, 11096,  4949, 10644, 10774, 10679, 10652, 10645, 10365,\n",
       "        10280, 10257,  5066, 10202, 10148, 10065, 10022,  5072, 10915,\n",
       "        11244,  5944,  4858,  4361,  4414,  4427,  4448,  4825,  4851,\n",
       "         3834,  5228,  7133,  7401,  7485,  7607,  7815,  7859,  6148,\n",
       "         4907,  3754,  3050, 11327, 10001,     2,    97,   132,  4803,\n",
       "         3329,   173,  1329,  2187,  4715,  2227,  2694,  4681,   666,\n",
       "        11328,  9235,  9859,  5724,  5628,  7136,  7156,  7176,  7180,\n",
       "         7099,  7181,  7274,  7418,  7437,  7559,  7636,  7713,  7262,\n",
       "         7721,  7082,  5742,  6097,  6157,  6158,  6226,  6289,  5912,\n",
       "         7049,  6400,  6505,  6592,  6678,  6688,  6706,  6856,  5837,\n",
       "         5181,  7733,  5445,  9138,  9140,  9167,  9179,  9201,  9227,\n",
       "         8972,  6061,  9424,  9493,  9560,  5267,  9645,  9814,  9377,\n",
       "         7745,  8784,  7907,  7890,  7990,  7997,  8038,  8114,  8169,\n",
       "         8772,  8405,  8492,  8523,  8533,  8547,  8639,  8645,  8411,\n",
       "         7957,   314,  8051,  2116,  2167,  2343,  2361,  2705,  2962,\n",
       "         3064,  2106,  3354,  3637,  3747,  3752,  3804,  4259,  4415,\n",
       "         4423,  3489,  4476,  2062,  1843, 11013, 11042, 11079, 11135,\n",
       "        11138, 11231, 11265,  1978, 11359,   718,   813,   846,  1166,\n",
       "         1256,  1603,  1762,    67,  4580,  4626,  4727,  7857,  7926,\n",
       "         8316,  8475,  8688,  9034,  9104,  7844,  9242,  9403,  9422,\n",
       "         9656,  9833, 10361, 10788, 10973,  9337,  7523,  7454,  7445,\n",
       "         4863,  5033,  5120,  5215,  5650,  5991,  6030,  6425,  6434,\n",
       "         6440,  6472,  6555,  6738,  6792,  6930,  7123,  7184, 10911,\n",
       "         7965, 10807, 10663,   290,   544,   816,   825,  1375,  1801,\n",
       "         2018,   176,  2153,  2419,  2486,  2762,  3229,  3249,  3455,\n",
       "         3674,  2322,  4337,    25, 10940,  8127,  8159,  8173,  8260,\n",
       "         8261,  8330,  8489, 11111,  8742,  9494,  9513,  4660, 10049,\n",
       "        10068, 10093, 10789,  9263,  4576,  4894,  4937,  8039,  8041,\n",
       "         8129,  8505,  8625,  9188,  9236,  8027,  9307,  9828,  9897,\n",
       "        10105, 10320, 10411, 10439, 10630,  9472,  7861,  7769,  7765,\n",
       "         5001,  5196,  5256,  5270,  5481,  5574,  5593,  5622,  5774,\n",
       "         5891,  5952,  6040,  6273,  6363,  6701,  7424,  7546, 10738,\n",
       "         9731,  3562,  4533,  1374,  1389,  1498,  1528,  1580,  1656,\n",
       "         1718,  1284,  1766,  1876,  1888,  1906,  1928,  1967,  2000,\n",
       "         2055,  1819,  2073,  1270,  1083, 10351, 10445, 10812, 10954,\n",
       "        11186, 11349,    37,  1244,   110,   344,   378,   785,   817,\n",
       "          915,  1011,  1068,   276,  2165,  2228,  2262,  4079,  4116,\n",
       "         4127,  4190,  4456,  4467,  4473,  4052,  4503,  4650,  4725,\n",
       "         4746,  4852,  4948,  4981,  4550,  4616,  3967,  3916,  3875,\n",
       "         2268,  2279,  2334,  2345,  2456,  2725,  2728,  2912,  2936,\n",
       "         2986,  3005,  3161,  3403,  3608,  3629,  3664,  3862, 10345,\n",
       "        10079,  9928,  9869,  2933,  2982,  2988,  3112,  3115,  3143,\n",
       "         3418,  2753,  3448,  3679,  3906,  4144,  4268,  4413,  4447,\n",
       "         4585,  3460,  2720,  2622,  2580,   330,   339,   349,   675,\n",
       "          789,   940,  1407,  1638,  1808,  1886,  2035,  2080,  2142,\n",
       "         2143,  2218,  2496,  2545,  4631,  5118,  4774,  4999,  8377,\n",
       "         8680,  8919,  8926,  9030,  9037,  9153,  8321,  9159,  9241,\n",
       "         9353,  9455,  9510,  9673,  9730,  9790,  9225,  8320,  7795,\n",
       "         7637,  5126,  5180,  5362,  5422,  5591,  5632,  5698,  5794,\n",
       "         6138,  6397,  6461,  6950,  6985,  7190,  7240,  7614,  7632,\n",
       "         4784,  5133,  4994, 10520,   501,   525,   854,   873,   938,\n",
       "          960,   993,   442,  1004,  1071,  1093,  1242,  1250,  1252,\n",
       "         1447,  1480,  1012,   440,   319,   309, 10650, 10711, 10728,\n",
       "        10762, 10799, 10884, 10905, 10963, 11027, 11054, 11271, 11317,\n",
       "           19,    38,   105,   226,   303,  1698, 10613,  1772,  1787,\n",
       "         2994,  3021,  3137,  3230,  3293,  3390,  3556,  2910, 11141,\n",
       "         3942,  4033,  4099,  4260,  4293,  4342,  4354,  3907,  2872,\n",
       "         2824,  2754,  1811,  1862,  1869,  1993,  2051,  2064,  2134,\n",
       "         2245,  2246,  2247,  2350,  2352,  2413,  2445,  2516,  2572,\n",
       "         2699,  1776, 10493, 11362,  7674,  6686,  6699,  6902,  6922,\n",
       "         6924,  7045,  7542,  7562,  7565,  7594,  7606, 10440,  7819,\n",
       "         7894,  8026,  6649,  8092,  6510,  6453,  5313,  5317,  5358,\n",
       "         5385,  5395,  5477,  5541,  5572,  5602,  5700,  5269,  6062,\n",
       "         6265,  6353,  6358,  6495,  5305,  8094,  8225,  5263,  9631,\n",
       "         9633,  9677, 10005, 10019, 10063, 10134, 10215, 10233, 10243,\n",
       "        10297, 10404, 10436,  5164,  9627,  8158,  9548,  9491,  8268,\n",
       "         8327,  8558,  8713,  8776,  8899,  8931,  9024,  9031,  9052,\n",
       "         9093,  9156,  9199,  9208,  9433,  9504,  5283, 11065,  8982,\n",
       "        10364,  8564,  7753,  9591,  9640,  9583]),\n",
       " (1.05, 1.0995): array([9265, 8519]),\n",
       " (1.1, 1.1495): array([], dtype=int64),\n",
       " (1.15, 1.1995): array([], dtype=int64)}"
      ]
     },
     "execution_count": 46,
     "metadata": {},
     "output_type": "execute_result"
    }
   ],
   "source": [
    "## paid edges\n",
    "paid"
   ]
  },
  {
   "cell_type": "markdown",
   "metadata": {},
   "source": [
    "## Density Plot"
   ]
  },
  {
   "cell_type": "code",
   "execution_count": 59,
   "metadata": {
    "ExecuteTime": {
     "end_time": "2020-11-27T17:52:10.877843Z",
     "start_time": "2020-11-27T17:52:10.867340Z"
    }
   },
   "outputs": [],
   "source": [
    "def ave(a, b):\n",
    "    return (a + b) / 2\n",
    "\n",
    "\n",
    "def make_vector(nw):\n",
    "    vec = np.empty((0, 3))\n",
    "    for key, val in nw.items():\n",
    "        a = val[2]\n",
    "        am1, am2 = val[3]\n",
    "        p1, p2 = val[4]\n",
    "        am = ave(am1, am2)\n",
    "        p = min([ave(p1, p2), 1])\n",
    "        vec = np.vstack((vec, [a, am, p]))\n",
    "    return vec\n",
    "\n",
    "\n",
    "def den_plot(x, y, nbins, xlab, ylab, title, savefile):\n",
    "    fig, ax = plt.subplots(figsize=(6.4, 4))\n",
    "    h = ax.hist2d(x, y, nbins, cmap=\"Greens\", density=True, norm = colors.LogNorm())\n",
    "    fig.colorbar(h[3], ax=ax)\n",
    "    plt.title(title)\n",
    "    plt.xlabel(xlab)\n",
    "    plt.ylabel(ylab)\n",
    "    fig.tight_layout()\n",
    "    plt.savefig(savefile)\n",
    "    plt.close()"
   ]
  },
  {
   "cell_type": "code",
   "execution_count": 60,
   "metadata": {
    "ExecuteTime": {
     "end_time": "2020-11-27T17:52:11.510301Z",
     "start_time": "2020-11-27T17:52:11.497776Z"
    }
   },
   "outputs": [],
   "source": [
    "vec = make_vector(net)"
   ]
  },
  {
   "cell_type": "code",
   "execution_count": 66,
   "metadata": {
    "ExecuteTime": {
     "end_time": "2020-11-27T20:56:27.514317Z",
     "start_time": "2020-11-27T20:56:26.430875Z"
    }
   },
   "outputs": [],
   "source": [
    "den_plot(\n",
    "    vec[:, 0], vec[:, 1], 20, \"Age (years)\", \"Amount Loaned\",\n",
    "    \"Normalized distribution of\\n amount loaned vs Users age at time loaned\",\n",
    "    \"amt_v_age_density.jpg\")\n",
    "den_plot(\n",
    "    vec[:, 2], vec[:, 0], 20, \"Ratio of Loan Repaid on Time\", \"Age (years)\",\n",
    "    \"Normalized distribution of\\n age at time loaned vs ratio paid on time \",\n",
    "    \"paid_v_age_density.jpg\")\n",
    "den_plot(vec[:,\n",
    "             2], vec[:,\n",
    "                     1], 20, \"Ratio of Loan Repaid on Time\", \"Amount Loaned\",\n",
    "         \"Normalized distribution of\\n amount loaned vs ratio paid on time\",\n",
    "         \"paid_v_amt_density.jpg\")"
   ]
  },
  {
   "cell_type": "markdown",
   "metadata": {},
   "source": [
    "## Scaling"
   ]
  },
  {
   "cell_type": "code",
   "execution_count": 64,
   "metadata": {
    "ExecuteTime": {
     "end_time": "2020-11-27T17:55:45.865633Z",
     "start_time": "2020-11-27T17:55:40.640246Z"
    }
   },
   "outputs": [],
   "source": [
    "times = np.empty((0, 2))\n",
    "for i in range(10,len(graph)-1, 10):\n",
    "    start = time()\n",
    "    arr = network(graph[:i], age, amount, paid)\n",
    "    end = time()\n",
    "    dt = (end - start)/1e9\n",
    "    times = np.vstack((times, [i, dt]))\n",
    "    "
   ]
  },
  {
   "cell_type": "code",
   "execution_count": 65,
   "metadata": {
    "ExecuteTime": {
     "end_time": "2020-11-27T17:55:46.573233Z",
     "start_time": "2020-11-27T17:55:46.312923Z"
    }
   },
   "outputs": [
    {
     "data": {
      "image/png": "[encoded data removed]",
      "text/plain": [
       "<Figure size 900x600 with 1 Axes>"
      ]
     },
     "metadata": {
      "needs_background": "light"
     },
     "output_type": "display_data"
    }
   ],
   "source": [
    "m, b = np.polyfit(times[:, 0], times[:, 1], 1)\n",
    "plt.figure()\n",
    "plt.scatter(times[:, 0],\n",
    "            times[:, 1],\n",
    "            label=\"Run time data\",\n",
    "            facecolor=\"w\",\n",
    "            edgecolor=\"r\")\n",
    "plt.plot(times[:, 0],\n",
    "         times[:, 0] * m + b,\n",
    "         label=\"Best fit line\",\n",
    "         linestyle=\"-.\")\n",
    "plt.xlabel(\"Number of User Nodes\")\n",
    "plt.ylabel(\"Run Time in (s)\")\n",
    "plt.title(\"Experimental Run Time of all Three Questions\")\n",
    "plt.legend(loc='best')\n",
    "plt.tight_layout()\n",
    "plt.savefig(\"scalingplot.jpg\")\n",
    "plt.show()"
   ]
  },
  {
   "cell_type": "markdown",
   "metadata": {
    "ExecuteTime": {
     "end_time": "2020-11-26T19:21:13.004368Z",
     "start_time": "2020-11-26T19:21:13.002437Z"
    }
   },
   "source": [
    "## END\n",
    "\n",
    " these four dictionaries: net, age, amount, and paid; hold the multi-graph, so we are done."
   ]
  }
 ],
 "metadata": {
  "kernelspec": {
   "display_name": "Python 3",
   "language": "python",
   "name": "python3"
  },
  "language_info": {
   "codemirror_mode": {
    "name": "ipython",
    "version": 3
   },
   "file_extension": ".py",
   "mimetype": "text/x-python",
   "name": "python",
   "nbconvert_exporter": "python",
   "pygments_lexer": "ipython3",
   "version": "3.7.4"
  },
  "latex_envs": {
   "LaTeX_envs_menu_present": true,
   "autoclose": false,
   "autocomplete": false,
   "bibliofile": "biblio.bib",
   "cite_by": "apalike",
   "current_citInitial": 1,
   "eqLabelWithNumbers": true,
   "eqNumInitial": 1,
   "hotkeys": {
    "equation": "Ctrl-E",
    "itemize": "Ctrl-I"
   },
   "labels_anchors": false,
   "latex_user_defs": false,
   "report_style_numbering": false,
   "user_envs_cfg": false
  },
  "toc": {
   "base_numbering": 1,
   "nav_menu": {},
   "number_sections": true,
   "sideBar": true,
   "skip_h1_title": false,
   "title_cell": "Table of Contents",
   "title_sidebar": "Contents",
   "toc_cell": true,
   "toc_position": {
    "height": "calc(100% - 180px)",
    "left": "10px",
    "top": "150px",
    "width": "165px"
   },
   "toc_section_display": true,
   "toc_window_display": true
  },
  "varInspector": {
   "cols": {
    "lenName": 16,
    "lenType": 16,
    "lenVar": 40
   },
   "kernels_config": {
    "python": {
     "delete_cmd_postfix": "",
     "delete_cmd_prefix": "del ",
     "library": "var_list.py",
     "varRefreshCmd": "print(var_dic_list())"
    },
    "r": {
     "delete_cmd_postfix": ") ",
     "delete_cmd_prefix": "rm(",
     "library": "var_list.r",
     "varRefreshCmd": "cat(var_dic_list()) "
    }
   },
   "types_to_exclude": [
    "module",
    "function",
    "builtin_function_or_method",
    "instance",
    "_Feature"
   ],
   "window_display": false
  }
 },
 "nbformat": 4,
 "nbformat_minor": 4
}
